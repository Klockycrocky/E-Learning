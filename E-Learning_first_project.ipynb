{
 "cells": [
  {
   "cell_type": "markdown",
   "metadata": {},
   "source": [
    "Продакт-менеджер Василий попросил вас проанализировать завершенные уроки и ответить на следующие вопросы:\n",
    "\n",
    "1. Сколько студентов успешно сдали только один курс? (Успешная сдача — это зачёт по курсу на экзамене)  \n",
    "\n",
      "Доп. задание. Сделать тоже самое, но с учетом отсеивания по сроку сдачи. Критерии отсеивания выбрать самостоятельно\n",
    "\n",
    "\n",
    "2. Выяви самый сложный и самый простой экзамен: найди курсы и экзамены в рамках курса, которые обладают самой низкой и самой высокой завершаемостью*. \n",
    "\n",
    "3. По каждому предмету определи средний срок сдачи экзаменов (под сдачей понимаем последнее успешное прохождение экзамена студентом).\n",
    "\n",
    "4. Выяви самые популярные курсы (ТОП-3) по количеству регистраций на них. А также курсы с самым большим оттоком (ТОП-3).\n",
    "\n",
    "5. Часто для качественного анализа аудитории использую подходы, основанные на сегментации. Используя python, построй адаптированные RFM-кластеры студентов, чтобы качественно оценить свою аудиторию. В адаптированной кластеризации можешь выбрать следующие метрики: R - среднее время сдачи одного экзамена, F - завершаемость курсов, M - среднее количество баллов, получаемое за экзамен. Подробно опиши, как ты создавал кластеры. Для каждого RFM-сегмента построй границы метрик recency, frequency и monetary для интерпретации этих кластеров.\n",
    "*завершаемость = кол-во успешных экзаменов / кол-во всех попыток сдать экзамен\n",
    "\n",
    "Файлы: \n",
    "\n",
    "##### assessments.csv — этот файл содержит информацию об оценках в тесте. Обычно каждый предмет в семестре включает ряд тестов с оценками, за которыми следует заключительный экзаменационный тест (экзамен).\n",
    "code_module — идентификационный код предмета.\n",
    "\n",
    "code_presentation — семестр (Идентификационный код).\n",
    "\n",
    "id_assessment — тест (Идентификационный номер ассессмента).\n",
    "\n",
    "assessment_type — тип теста. Существуют три типа оценивания: оценка преподавателя (TMA), компьютерная оценка (СМА), экзамен по курсу (Exam).\n",
    "\n",
    "date — информация об окончательной дате сдачи теста. Рассчитывается как количество дней с момента начала семестра. Дата начала семестра имеет номер 0 (ноль).\n",
    "\n",
    "weight — вес теста в % в оценке за курс. Обычно экзамены рассматриваются отдельно и имеют вес 100%; сумма всех остальных оценок составляет 100%.\n",
    "\n",
    "##### courses.csv — файл содержит список предметов по семестрам.\n",
    "code_module — предмет (идентификационный код).\n",
    "\n",
    "code_presentation — семестр (идентификационный код).\n",
    "\n",
    "module_presentation_length — продолжительность семестра в днях.\n",
    "\n",
    "##### studentAssessment.csv — этот файл содержит результаты тестов студентов. Если учащийся не отправляет работу на оценку, результат не записывается в таблицу.\n",
    "id_assessment — тест (идентификационный номер).\n",
    "\n",
    "id_student — идентификационный номер студента.\n",
    "\n",
    "date_submitted — дата сдачи теста студентом, измеряемая как количество дней с начала семестра.\n",
    "\n",
    "is_banked — факт перезачета теста с прошлого семестра (иногда курсы перезачитывают студентам, вернувшимся из академического отпуска).\n",
    "\n",
    "score — оценка учащегося в этом тесте. Диапазон составляет от 0 до 100. Оценка ниже 40 неудачная/неуспешная сдача теста.\n",
    "\n",
    "##### studentRegistration.csv — этот файл содержит информацию о времени, когда студент зарегистрировался для прохождения курса в семестре.\n",
    "code_module — предмет (идентификационный код).\n",
    "\n",
    "code_presentation — семестр (идентификационный код)\n",
    "\n",
    "id_student — идентификационный номер студента.\n",
    "\n",
    "date_registration — дата регистрации студента. Это количество дней, измеренное от начала семестра (например, отрицательное значение -30 означает, что студент зарегистрировался на прохождение курса за 30 дней до его начала).\n",
    "\n",
    "date_unregistration — дата отмены регистрации студента с предмета. У студентов, окончивших курс, это поле остается пустым."
   ]
  },
  {
   "cell_type": "code",
   "execution_count": 1,
   "metadata": {},
   "outputs": [],
   "source": [
    "import pandas as pd\n",
    "import numpy as np\n",
    "import seaborn as sns\n",
    "import requests \n",
    "from urllib.parse import urlencode\n",
    "import math\n",
    "%matplotlib inline\n",
    "import matplotlib.pyplot as plt\n",
    "sns.set(\n",
    "    font_scale = 2,\n",
    "    style       =\"whitegrid\",\n",
    "    rc          ={'figure.figsize':(20, 7)}\n",
    ")"
   ]
  },
  {
   "cell_type": "code",
   "execution_count": 2,
   "metadata": {},
   "outputs": [],
   "source": [
    "base_url = 'https://cloud-api.yandex.net/v1/disk/public/resources/download?' \n",
    "public_key_1 = 'https://disk.yandex.ru/d/iSVP1sZ7AdW7TQ' \n",
    "public_key_2 = 'https://disk.yandex.ru/d/jmJxR8yhwCXlaw'\n",
    "public_key_3 = 'https://disk.yandex.ru/d/DYd4M5b_8RETsA'\n",
    "public_key_4 = 'https://disk.yandex.ru/d/lqHnH8NOZ458iw'\n",
    "final_url_1 = base_url + urlencode(dict(public_key=public_key_1)) \n",
    "final_url_2 = base_url + urlencode(dict(public_key=public_key_2))\n",
    "final_url_3 = base_url + urlencode(dict(public_key=public_key_3))\n",
    "final_url_4 = base_url + urlencode(dict(public_key=public_key_4))\n",
    "response_1 = requests.get(final_url_1)\n",
    "response_2 = requests.get(final_url_2)\n",
    "response_3 = requests.get(final_url_3)\n",
    "response_4 = requests.get(final_url_4)\n",
    "download_url_1 = response_1.json()['href'] \n",
    "download_url_2 = response_2.json()['href'] \n",
    "download_url_3 = response_3.json()['href']\n",
    "download_url_4 = response_4.json()['href']\n",
    "assessments =       pd.read_csv(download_url_1, sep=',')\n",
    "courses =   pd.read_csv(download_url_2, sep=',')\n",
    "studentAssessment = pd.read_csv(download_url_3, sep=',')\n",
    "studentRegistration = pd.read_csv(download_url_4, sep=',')"
   ]
  },
  {
   "cell_type": "code",
   "execution_count": 3,
   "metadata": {},
   "outputs": [
    {
     "data": {
      "text/html": [
       "<div>\n",
       "<style scoped>\n",
       "    .dataframe tbody tr th:only-of-type {\n",
       "        vertical-align: middle;\n",
       "    }\n",
       "\n",
       "    .dataframe tbody tr th {\n",
       "        vertical-align: top;\n",
       "    }\n",
       "\n",
       "    .dataframe thead th {\n",
       "        text-align: right;\n",
       "    }\n",
       "</style>\n",
       "<table border=\"1\" class=\"dataframe\">\n",
       "  <thead>\n",
       "    <tr style=\"text-align: right;\">\n",
       "      <th></th>\n",
       "      <th>code_module</th>\n",
       "      <th>code_presentation</th>\n",
       "      <th>id_assessment</th>\n",
       "      <th>assessment_type</th>\n",
       "      <th>date</th>\n",
       "      <th>weight</th>\n",
       "    </tr>\n",
       "  </thead>\n",
       "  <tbody>\n",
       "    <tr>\n",
       "      <th>0</th>\n",
       "      <td>AAA</td>\n",
       "      <td>2013J</td>\n",
       "      <td>1752</td>\n",
       "      <td>TMA</td>\n",
       "      <td>19.0</td>\n",
       "      <td>10.0</td>\n",
       "    </tr>\n",
       "    <tr>\n",
       "      <th>1</th>\n",
       "      <td>AAA</td>\n",
       "      <td>2013J</td>\n",
       "      <td>1753</td>\n",
       "      <td>TMA</td>\n",
       "      <td>54.0</td>\n",
       "      <td>20.0</td>\n",
       "    </tr>\n",
       "    <tr>\n",
       "      <th>2</th>\n",
       "      <td>AAA</td>\n",
       "      <td>2013J</td>\n",
       "      <td>1754</td>\n",
       "      <td>TMA</td>\n",
       "      <td>117.0</td>\n",
       "      <td>20.0</td>\n",
       "    </tr>\n",
       "    <tr>\n",
       "      <th>3</th>\n",
       "      <td>AAA</td>\n",
       "      <td>2013J</td>\n",
       "      <td>1755</td>\n",
       "      <td>TMA</td>\n",
       "      <td>166.0</td>\n",
       "      <td>20.0</td>\n",
       "    </tr>\n",
       "    <tr>\n",
       "      <th>4</th>\n",
       "      <td>AAA</td>\n",
       "      <td>2013J</td>\n",
       "      <td>1756</td>\n",
       "      <td>TMA</td>\n",
       "      <td>215.0</td>\n",
       "      <td>30.0</td>\n",
       "    </tr>\n",
       "  </tbody>\n",
       "</table>\n",
       "</div>"
      ],
      "text/plain": [
       "  code_module code_presentation  id_assessment assessment_type   date  weight\n",
       "0         AAA             2013J           1752             TMA   19.0    10.0\n",
       "1         AAA             2013J           1753             TMA   54.0    20.0\n",
       "2         AAA             2013J           1754             TMA  117.0    20.0\n",
       "3         AAA             2013J           1755             TMA  166.0    20.0\n",
       "4         AAA             2013J           1756             TMA  215.0    30.0"
      ]
     },
     "execution_count": 3,
     "metadata": {},
     "output_type": "execute_result"
    }
   ],
   "source": [
    "assessments.head()"
   ]
  },
  {
   "cell_type": "code",
   "execution_count": 4,
   "metadata": {},
   "outputs": [
    {
     "data": {
      "text/html": [
       "<div>\n",
       "<style scoped>\n",
       "    .dataframe tbody tr th:only-of-type {\n",
       "        vertical-align: middle;\n",
       "    }\n",
       "\n",
       "    .dataframe tbody tr th {\n",
       "        vertical-align: top;\n",
       "    }\n",
       "\n",
       "    .dataframe thead th {\n",
       "        text-align: right;\n",
       "    }\n",
       "</style>\n",
       "<table border=\"1\" class=\"dataframe\">\n",
       "  <thead>\n",
       "    <tr style=\"text-align: right;\">\n",
       "      <th></th>\n",
       "      <th>code_module</th>\n",
       "      <th>code_presentation</th>\n",
       "      <th>module_presentation_length</th>\n",
       "    </tr>\n",
       "  </thead>\n",
       "  <tbody>\n",
       "    <tr>\n",
       "      <th>0</th>\n",
       "      <td>AAA</td>\n",
       "      <td>2013J</td>\n",
       "      <td>268</td>\n",
       "    </tr>\n",
       "    <tr>\n",
       "      <th>1</th>\n",
       "      <td>AAA</td>\n",
       "      <td>2014J</td>\n",
       "      <td>269</td>\n",
       "    </tr>\n",
       "    <tr>\n",
       "      <th>2</th>\n",
       "      <td>BBB</td>\n",
       "      <td>2013J</td>\n",
       "      <td>268</td>\n",
       "    </tr>\n",
       "    <tr>\n",
       "      <th>3</th>\n",
       "      <td>BBB</td>\n",
       "      <td>2014J</td>\n",
       "      <td>262</td>\n",
       "    </tr>\n",
       "    <tr>\n",
       "      <th>4</th>\n",
       "      <td>BBB</td>\n",
       "      <td>2013B</td>\n",
       "      <td>240</td>\n",
       "    </tr>\n",
       "  </tbody>\n",
       "</table>\n",
       "</div>"
      ],
      "text/plain": [
       "  code_module code_presentation  module_presentation_length\n",
       "0         AAA             2013J                         268\n",
       "1         AAA             2014J                         269\n",
       "2         BBB             2013J                         268\n",
       "3         BBB             2014J                         262\n",
       "4         BBB             2013B                         240"
      ]
     },
     "execution_count": 4,
     "metadata": {},
     "output_type": "execute_result"
    }
   ],
   "source": [
    "courses.head()"
   ]
  },
  {
   "cell_type": "code",
   "execution_count": 5,
   "metadata": {},
   "outputs": [
    {
     "data": {
      "text/html": [
       "<div>\n",
       "<style scoped>\n",
       "    .dataframe tbody tr th:only-of-type {\n",
       "        vertical-align: middle;\n",
       "    }\n",
       "\n",
       "    .dataframe tbody tr th {\n",
       "        vertical-align: top;\n",
       "    }\n",
       "\n",
       "    .dataframe thead th {\n",
       "        text-align: right;\n",
       "    }\n",
       "</style>\n",
       "<table border=\"1\" class=\"dataframe\">\n",
       "  <thead>\n",
       "    <tr style=\"text-align: right;\">\n",
       "      <th></th>\n",
       "      <th>id_assessment</th>\n",
       "      <th>id_student</th>\n",
       "      <th>date_submitted</th>\n",
       "      <th>is_banked</th>\n",
       "      <th>score</th>\n",
       "    </tr>\n",
       "  </thead>\n",
       "  <tbody>\n",
       "    <tr>\n",
       "      <th>0</th>\n",
       "      <td>1752</td>\n",
       "      <td>11391</td>\n",
       "      <td>18</td>\n",
       "      <td>0</td>\n",
       "      <td>78.0</td>\n",
       "    </tr>\n",
       "    <tr>\n",
       "      <th>1</th>\n",
       "      <td>1752</td>\n",
       "      <td>28400</td>\n",
       "      <td>22</td>\n",
       "      <td>0</td>\n",
       "      <td>70.0</td>\n",
       "    </tr>\n",
       "    <tr>\n",
       "      <th>2</th>\n",
       "      <td>1752</td>\n",
       "      <td>31604</td>\n",
       "      <td>17</td>\n",
       "      <td>0</td>\n",
       "      <td>72.0</td>\n",
       "    </tr>\n",
       "    <tr>\n",
       "      <th>3</th>\n",
       "      <td>1752</td>\n",
       "      <td>32885</td>\n",
       "      <td>26</td>\n",
       "      <td>0</td>\n",
       "      <td>69.0</td>\n",
       "    </tr>\n",
       "    <tr>\n",
       "      <th>4</th>\n",
       "      <td>1752</td>\n",
       "      <td>38053</td>\n",
       "      <td>19</td>\n",
       "      <td>0</td>\n",
       "      <td>79.0</td>\n",
       "    </tr>\n",
       "  </tbody>\n",
       "</table>\n",
       "</div>"
      ],
      "text/plain": [
       "   id_assessment  id_student  date_submitted  is_banked  score\n",
       "0           1752       11391              18          0   78.0\n",
       "1           1752       28400              22          0   70.0\n",
       "2           1752       31604              17          0   72.0\n",
       "3           1752       32885              26          0   69.0\n",
       "4           1752       38053              19          0   79.0"
      ]
     },
     "execution_count": 5,
     "metadata": {},
     "output_type": "execute_result"
    }
   ],
   "source": [
    "studentAssessment.head()"
   ]
  },
  {
   "cell_type": "code",
   "execution_count": 6,
   "metadata": {},
   "outputs": [
    {
     "data": {
      "text/html": [
       "<div>\n",
       "<style scoped>\n",
       "    .dataframe tbody tr th:only-of-type {\n",
       "        vertical-align: middle;\n",
       "    }\n",
       "\n",
       "    .dataframe tbody tr th {\n",
       "        vertical-align: top;\n",
       "    }\n",
       "\n",
       "    .dataframe thead th {\n",
       "        text-align: right;\n",
       "    }\n",
       "</style>\n",
       "<table border=\"1\" class=\"dataframe\">\n",
       "  <thead>\n",
       "    <tr style=\"text-align: right;\">\n",
       "      <th></th>\n",
       "      <th>code_module</th>\n",
       "      <th>code_presentation</th>\n",
       "      <th>id_student</th>\n",
       "      <th>date_registration</th>\n",
       "      <th>date_unregistration</th>\n",
       "    </tr>\n",
       "  </thead>\n",
       "  <tbody>\n",
       "    <tr>\n",
       "      <th>0</th>\n",
       "      <td>AAA</td>\n",
       "      <td>2013J</td>\n",
       "      <td>11391</td>\n",
       "      <td>-159.0</td>\n",
       "      <td>NaN</td>\n",
       "    </tr>\n",
       "    <tr>\n",
       "      <th>1</th>\n",
       "      <td>AAA</td>\n",
       "      <td>2013J</td>\n",
       "      <td>28400</td>\n",
       "      <td>-53.0</td>\n",
       "      <td>NaN</td>\n",
       "    </tr>\n",
       "    <tr>\n",
       "      <th>2</th>\n",
       "      <td>AAA</td>\n",
       "      <td>2013J</td>\n",
       "      <td>30268</td>\n",
       "      <td>-92.0</td>\n",
       "      <td>12.0</td>\n",
       "    </tr>\n",
       "    <tr>\n",
       "      <th>3</th>\n",
       "      <td>AAA</td>\n",
       "      <td>2013J</td>\n",
       "      <td>31604</td>\n",
       "      <td>-52.0</td>\n",
       "      <td>NaN</td>\n",
       "    </tr>\n",
       "    <tr>\n",
       "      <th>4</th>\n",
       "      <td>AAA</td>\n",
       "      <td>2013J</td>\n",
       "      <td>32885</td>\n",
       "      <td>-176.0</td>\n",
       "      <td>NaN</td>\n",
       "    </tr>\n",
       "  </tbody>\n",
       "</table>\n",
       "</div>"
      ],
      "text/plain": [
       "  code_module code_presentation  id_student  date_registration  \\\n",
       "0         AAA             2013J       11391             -159.0   \n",
       "1         AAA             2013J       28400              -53.0   \n",
       "2         AAA             2013J       30268              -92.0   \n",
       "3         AAA             2013J       31604              -52.0   \n",
       "4         AAA             2013J       32885             -176.0   \n",
       "\n",
       "   date_unregistration  \n",
       "0                  NaN  \n",
       "1                  NaN  \n",
       "2                 12.0  \n",
       "3                  NaN  \n",
       "4                  NaN  "
      ]
     },
     "execution_count": 6,
     "metadata": {},
     "output_type": "execute_result"
    }
   ],
   "source": [
    "studentRegistration.head()"
   ]
  },
  {
   "cell_type": "markdown",
   "metadata": {},
   "source": [
    "### Для общего понимания выведем основную информацию по каждой из таблиц"
   ]
  },
  {
   "cell_type": "code",
   "execution_count": 7,
   "metadata": {},
   "outputs": [
    {
     "name": "stdout",
     "output_type": "stream",
     "text": [
      "Длина assessments: 206 \n",
      "Длина courses: 22 \n",
      "Длина studentAssessment: 173912 \n",
      "Длина studentRegistration: 32593\n"
     ]
    }
   ],
   "source": [
    "print('Длина assessments:', len(assessments), '\\nДлина courses:', len(courses), '\\nДлина studentAssessment:', \n",
    "                                    len(studentAssessment), '\\nДлина studentRegistration:', len(studentRegistration))\n"
   ]
  },
  {
   "cell_type": "code",
   "execution_count": 8,
   "metadata": {},
   "outputs": [
    {
     "name": "stdout",
     "output_type": "stream",
     "text": [
      "0\n",
      "0\n",
      "0\n",
      "0\n"
     ]
    }
   ],
   "source": [
    "a = [assessments, courses, studentAssessment, studentRegistration]\n",
    "for i in a:\n",
    "    print(i.duplicated().sum())"
   ]
  },
  {
   "cell_type": "code",
   "execution_count": 9,
   "metadata": {},
   "outputs": [
    {
     "name": "stdout",
     "output_type": "stream",
     "text": [
      "code_module           0\n",
      "code_presentation     0\n",
      "id_assessment         0\n",
      "assessment_type       0\n",
      "date                 11\n",
      "weight                0\n",
      "dtype: int64\n",
      "code_module                   0\n",
      "code_presentation             0\n",
      "module_presentation_length    0\n",
      "dtype: int64\n",
      "id_assessment       0\n",
      "id_student          0\n",
      "date_submitted      0\n",
      "is_banked           0\n",
      "score             173\n",
      "dtype: int64\n",
      "code_module                0\n",
      "code_presentation          0\n",
      "id_student                 0\n",
      "date_registration         45\n",
      "date_unregistration    22521\n",
      "dtype: int64\n"
     ]
    }
   ],
   "source": [
    "for i in a:\n",
    "    print(i.isna().sum())"
   ]
  },
  {
   "cell_type": "code",
   "execution_count": 10,
   "metadata": {},
   "outputs": [
    {
     "name": "stdout",
     "output_type": "stream",
     "text": [
      "code_module          0.000000\n",
      "code_presentation    0.000000\n",
      "id_assessment        0.000000\n",
      "assessment_type      0.000000\n",
      "date                 0.053398\n",
      "weight               0.000000\n",
      "dtype: float64\n",
      "code_module                   0.0\n",
      "code_presentation             0.0\n",
      "module_presentation_length    0.0\n",
      "dtype: float64\n",
      "id_assessment     0.000000\n",
      "id_student        0.000000\n",
      "date_submitted    0.000000\n",
      "is_banked         0.000000\n",
      "score             0.000995\n",
      "dtype: float64\n",
      "code_module            0.000000\n",
      "code_presentation      0.000000\n",
      "id_student             0.000000\n",
      "date_registration      0.001381\n",
      "date_unregistration    0.690977\n",
      "dtype: float64\n"
     ]
    }
   ],
   "source": [
    "for i in a:\n",
    "    print(i.isna().mean())"
   ]
  },
  {
   "cell_type": "code",
   "execution_count": 11,
   "metadata": {},
   "outputs": [
    {
     "name": "stdout",
     "output_type": "stream",
     "text": [
      "code_module           object\n",
      "code_presentation     object\n",
      "id_assessment          int64\n",
      "assessment_type       object\n",
      "date                 float64\n",
      "weight               float64\n",
      "dtype: object\n",
      "code_module                   object\n",
      "code_presentation             object\n",
      "module_presentation_length     int64\n",
      "dtype: object\n",
      "id_assessment       int64\n",
      "id_student          int64\n",
      "date_submitted      int64\n",
      "is_banked           int64\n",
      "score             float64\n",
      "dtype: object\n",
      "code_module             object\n",
      "code_presentation       object\n",
      "id_student               int64\n",
      "date_registration      float64\n",
      "date_unregistration    float64\n",
      "dtype: object\n"
     ]
    }
   ],
   "source": [
    "for i in a:\n",
    "    print(i.dtypes)"
   ]
  },
  {
   "cell_type": "markdown",
   "metadata": {},
   "source": [
    "### Определим, что такое курс"
   ]
  },
  {
   "cell_type": "markdown",
   "metadata": {},
   "source": [
    "В условии сказано, что у студентов, окончивших курс, поле в столбце \"date_unregistration\" остается пустым.  Проверим, сколько процентов зарегистрировавшихся окончили курс \n",
    "##### не значит что окончили успешно\n",
    "Вывод: Видим, что 69% из таблицы окончили курсы, на которые записались (если за курс считать предмет + отдельный семестр)"
   ]
  },
  {
   "cell_type": "code",
   "execution_count": 12,
   "metadata": {},
   "outputs": [
    {
     "data": {
      "text/plain": [
       "0.6909765900653515"
      ]
     },
     "execution_count": 12,
     "metadata": {},
     "output_type": "execute_result"
    }
   ],
   "source": [
    "studentRegistration.date_unregistration.isna().mean()"
   ]
  },
  {
   "cell_type": "code",
   "execution_count": 13,
   "metadata": {},
   "outputs": [
    {
     "data": {
      "text/plain": [
       " 12.0     788\n",
       " 0.0      419\n",
       " 27.0     170\n",
       "-1.0      147\n",
       "-2.0       99\n",
       "         ... \n",
       " 232.0      1\n",
       "-197.0      1\n",
       "-27.0       1\n",
       "-192.0      1\n",
       "-157.0      1\n",
       "Name: date_unregistration, Length: 416, dtype: int64"
      ]
     },
     "execution_count": 13,
     "metadata": {},
     "output_type": "execute_result"
    }
   ],
   "source": [
    "studentRegistration.date_unregistration.value_counts() # более всего отменяли регистрацию на 12ый день"
   ]
  },
  {
   "cell_type": "markdown",
   "metadata": {},
   "source": [
    "Для определения что является курсом попробуем посмотреть, сколько семестров в каждом предмете. К сожалению, мы не сможем выяснить очередность семестров и есть ли она вообще, но далее сможем посмотреть, может ли студент поступить на один семестр внутри предмета без сдачи других курсов этого предмета. Также есть вариант, при котором курс - сдача всех предметов, которые предусмотрены внутри одного семестра."
   ]
  },
  {
   "cell_type": "code",
   "execution_count": 14,
   "metadata": {},
   "outputs": [
    {
     "data": {
      "text/html": [
       "<div>\n",
       "<style scoped>\n",
       "    .dataframe tbody tr th:only-of-type {\n",
       "        vertical-align: middle;\n",
       "    }\n",
       "\n",
       "    .dataframe tbody tr th {\n",
       "        vertical-align: top;\n",
       "    }\n",
       "\n",
       "    .dataframe thead th {\n",
       "        text-align: right;\n",
       "    }\n",
       "</style>\n",
       "<table border=\"1\" class=\"dataframe\">\n",
       "  <thead>\n",
       "    <tr style=\"text-align: right;\">\n",
       "      <th></th>\n",
       "      <th>code_module</th>\n",
       "      <th>uniq_presentation</th>\n",
       "    </tr>\n",
       "  </thead>\n",
       "  <tbody>\n",
       "    <tr>\n",
       "      <th>0</th>\n",
       "      <td>AAA</td>\n",
       "      <td>[2013J, 2014J]</td>\n",
       "    </tr>\n",
       "    <tr>\n",
       "      <th>1</th>\n",
       "      <td>BBB</td>\n",
       "      <td>[2013J, 2014J, 2013B, 2014B]</td>\n",
       "    </tr>\n",
       "    <tr>\n",
       "      <th>2</th>\n",
       "      <td>CCC</td>\n",
       "      <td>[2014J, 2014B]</td>\n",
       "    </tr>\n",
       "    <tr>\n",
       "      <th>3</th>\n",
       "      <td>DDD</td>\n",
       "      <td>[2013J, 2014J, 2013B, 2014B]</td>\n",
       "    </tr>\n",
       "    <tr>\n",
       "      <th>4</th>\n",
       "      <td>EEE</td>\n",
       "      <td>[2013J, 2014J, 2014B]</td>\n",
       "    </tr>\n",
       "    <tr>\n",
       "      <th>5</th>\n",
       "      <td>FFF</td>\n",
       "      <td>[2013J, 2014J, 2013B, 2014B]</td>\n",
       "    </tr>\n",
       "    <tr>\n",
       "      <th>6</th>\n",
       "      <td>GGG</td>\n",
       "      <td>[2013J, 2014J, 2014B]</td>\n",
       "    </tr>\n",
       "  </tbody>\n",
       "</table>\n",
       "</div>"
      ],
      "text/plain": [
       "  code_module             uniq_presentation\n",
       "0         AAA                [2013J, 2014J]\n",
       "1         BBB  [2013J, 2014J, 2013B, 2014B]\n",
       "2         CCC                [2014J, 2014B]\n",
       "3         DDD  [2013J, 2014J, 2013B, 2014B]\n",
       "4         EEE         [2013J, 2014J, 2014B]\n",
       "5         FFF  [2013J, 2014J, 2013B, 2014B]\n",
       "6         GGG         [2013J, 2014J, 2014B]"
      ]
     },
     "execution_count": 14,
     "metadata": {},
     "output_type": "execute_result"
    }
   ],
   "source": [
    "courses.groupby('code_module', as_index = False).agg(uniq_presentation = ('code_presentation','unique'))"
   ]
  },
  {
   "cell_type": "markdown",
   "metadata": {},
   "source": [
    "Т.к по условию успешная сдача курса - сдача экзаменов, предлагаю посмотреть, все ли предметы + семетры имеют экзамены.\n",
    "Вывод: предположительно экзамены должны быть везде, а в случае с предметом CCC - 2 экзамена"
   ]
  },
  {
   "cell_type": "code",
   "execution_count": 15,
   "metadata": {},
   "outputs": [
    {
     "data": {
      "text/html": [
       "<div>\n",
       "<style scoped>\n",
       "    .dataframe tbody tr th:only-of-type {\n",
       "        vertical-align: middle;\n",
       "    }\n",
       "\n",
       "    .dataframe tbody tr th {\n",
       "        vertical-align: top;\n",
       "    }\n",
       "\n",
       "    .dataframe thead th {\n",
       "        text-align: right;\n",
       "    }\n",
       "</style>\n",
       "<table border=\"1\" class=\"dataframe\">\n",
       "  <thead>\n",
       "    <tr style=\"text-align: right;\">\n",
       "      <th></th>\n",
       "      <th>code_module</th>\n",
       "      <th>code_presentation</th>\n",
       "      <th>count_of_ex</th>\n",
       "    </tr>\n",
       "  </thead>\n",
       "  <tbody>\n",
       "    <tr>\n",
       "      <th>0</th>\n",
       "      <td>AAA</td>\n",
       "      <td>2013J</td>\n",
       "      <td>1</td>\n",
       "    </tr>\n",
       "    <tr>\n",
       "      <th>1</th>\n",
       "      <td>AAA</td>\n",
       "      <td>2014J</td>\n",
       "      <td>1</td>\n",
       "    </tr>\n",
       "    <tr>\n",
       "      <th>2</th>\n",
       "      <td>BBB</td>\n",
       "      <td>2013B</td>\n",
       "      <td>1</td>\n",
       "    </tr>\n",
       "    <tr>\n",
       "      <th>3</th>\n",
       "      <td>BBB</td>\n",
       "      <td>2013J</td>\n",
       "      <td>1</td>\n",
       "    </tr>\n",
       "    <tr>\n",
       "      <th>4</th>\n",
       "      <td>BBB</td>\n",
       "      <td>2014B</td>\n",
       "      <td>1</td>\n",
       "    </tr>\n",
       "    <tr>\n",
       "      <th>5</th>\n",
       "      <td>BBB</td>\n",
       "      <td>2014J</td>\n",
       "      <td>1</td>\n",
       "    </tr>\n",
       "    <tr>\n",
       "      <th>6</th>\n",
       "      <td>CCC</td>\n",
       "      <td>2014B</td>\n",
       "      <td>2</td>\n",
       "    </tr>\n",
       "    <tr>\n",
       "      <th>7</th>\n",
       "      <td>CCC</td>\n",
       "      <td>2014J</td>\n",
       "      <td>2</td>\n",
       "    </tr>\n",
       "    <tr>\n",
       "      <th>8</th>\n",
       "      <td>DDD</td>\n",
       "      <td>2013B</td>\n",
       "      <td>1</td>\n",
       "    </tr>\n",
       "    <tr>\n",
       "      <th>9</th>\n",
       "      <td>DDD</td>\n",
       "      <td>2013J</td>\n",
       "      <td>1</td>\n",
       "    </tr>\n",
       "    <tr>\n",
       "      <th>10</th>\n",
       "      <td>DDD</td>\n",
       "      <td>2014B</td>\n",
       "      <td>1</td>\n",
       "    </tr>\n",
       "    <tr>\n",
       "      <th>11</th>\n",
       "      <td>DDD</td>\n",
       "      <td>2014J</td>\n",
       "      <td>1</td>\n",
       "    </tr>\n",
       "    <tr>\n",
       "      <th>12</th>\n",
       "      <td>EEE</td>\n",
       "      <td>2013J</td>\n",
       "      <td>1</td>\n",
       "    </tr>\n",
       "    <tr>\n",
       "      <th>13</th>\n",
       "      <td>EEE</td>\n",
       "      <td>2014B</td>\n",
       "      <td>1</td>\n",
       "    </tr>\n",
       "    <tr>\n",
       "      <th>14</th>\n",
       "      <td>EEE</td>\n",
       "      <td>2014J</td>\n",
       "      <td>1</td>\n",
       "    </tr>\n",
       "    <tr>\n",
       "      <th>15</th>\n",
       "      <td>FFF</td>\n",
       "      <td>2013B</td>\n",
       "      <td>1</td>\n",
       "    </tr>\n",
       "    <tr>\n",
       "      <th>16</th>\n",
       "      <td>FFF</td>\n",
       "      <td>2013J</td>\n",
       "      <td>1</td>\n",
       "    </tr>\n",
       "    <tr>\n",
       "      <th>17</th>\n",
       "      <td>FFF</td>\n",
       "      <td>2014B</td>\n",
       "      <td>1</td>\n",
       "    </tr>\n",
       "    <tr>\n",
       "      <th>18</th>\n",
       "      <td>FFF</td>\n",
       "      <td>2014J</td>\n",
       "      <td>1</td>\n",
       "    </tr>\n",
       "    <tr>\n",
       "      <th>19</th>\n",
       "      <td>GGG</td>\n",
       "      <td>2013J</td>\n",
       "      <td>1</td>\n",
       "    </tr>\n",
       "    <tr>\n",
       "      <th>20</th>\n",
       "      <td>GGG</td>\n",
       "      <td>2014B</td>\n",
       "      <td>1</td>\n",
       "    </tr>\n",
       "    <tr>\n",
       "      <th>21</th>\n",
       "      <td>GGG</td>\n",
       "      <td>2014J</td>\n",
       "      <td>1</td>\n",
       "    </tr>\n",
       "  </tbody>\n",
       "</table>\n",
       "</div>"
      ],
      "text/plain": [
       "   code_module code_presentation  count_of_ex\n",
       "0          AAA             2013J            1\n",
       "1          AAA             2014J            1\n",
       "2          BBB             2013B            1\n",
       "3          BBB             2013J            1\n",
       "4          BBB             2014B            1\n",
       "5          BBB             2014J            1\n",
       "6          CCC             2014B            2\n",
       "7          CCC             2014J            2\n",
       "8          DDD             2013B            1\n",
       "9          DDD             2013J            1\n",
       "10         DDD             2014B            1\n",
       "11         DDD             2014J            1\n",
       "12         EEE             2013J            1\n",
       "13         EEE             2014B            1\n",
       "14         EEE             2014J            1\n",
       "15         FFF             2013B            1\n",
       "16         FFF             2013J            1\n",
       "17         FFF             2014B            1\n",
       "18         FFF             2014J            1\n",
       "19         GGG             2013J            1\n",
       "20         GGG             2014B            1\n",
       "21         GGG             2014J            1"
      ]
     },
     "execution_count": 15,
     "metadata": {},
     "output_type": "execute_result"
    }
   ],
   "source": [
    "assessments.query('assessment_type == \"Exam\"') \\\n",
    "           .groupby(['code_module', 'code_presentation'], as_index = False) \\\n",
    "           .agg(count_of_ex = ('assessment_type', 'count'))"
   ]
  },
  {
   "cell_type": "code",
   "execution_count": 16,
   "metadata": {},
   "outputs": [
    {
     "data": {
      "text/plain": [
       "True"
      ]
     },
     "execution_count": 16,
     "metadata": {},
     "output_type": "execute_result"
    }
   ],
   "source": [
    "# выяснили, что каждый предмет + семестр по идее имеет минимум 1 экзамен\n",
    "len(assessments.query('assessment_type == \"Exam\"') \\\n",
    "               .groupby(['code_module', 'code_presentation'], as_index = False) \\\n",
    "               .agg(count_of_ex = ('assessment_type', 'count'))) == len(courses)"
   ]
  },
  {
   "cell_type": "code",
   "execution_count": null,
   "metadata": {},
   "outputs": [],
   "source": []
  },
  {
   "cell_type": "markdown",
   "metadata": {},
   "source": [
    "Теперь посмотрим на тоже самое, только уже из таблицы с оценками студентов, однако ее нужно приджойнить к assessments\n",
    "##### Вывод: экзамен почему-то сдавался только по двум предметам (и по всем семестрам внутри этих предметов)"
   ]
  },
  {
   "cell_type": "code",
   "execution_count": 17,
   "metadata": {},
   "outputs": [
    {
     "data": {
      "text/html": [
       "<div>\n",
       "<style scoped>\n",
       "    .dataframe tbody tr th:only-of-type {\n",
       "        vertical-align: middle;\n",
       "    }\n",
       "\n",
       "    .dataframe tbody tr th {\n",
       "        vertical-align: top;\n",
       "    }\n",
       "\n",
       "    .dataframe thead th {\n",
       "        text-align: right;\n",
       "    }\n",
       "</style>\n",
       "<table border=\"1\" class=\"dataframe\">\n",
       "  <thead>\n",
       "    <tr style=\"text-align: right;\">\n",
       "      <th></th>\n",
       "      <th>code_module</th>\n",
       "      <th>code_presentation</th>\n",
       "      <th>count_of_ex</th>\n",
       "    </tr>\n",
       "  </thead>\n",
       "  <tbody>\n",
       "    <tr>\n",
       "      <th>0</th>\n",
       "      <td>CCC</td>\n",
       "      <td>2014B</td>\n",
       "      <td>747</td>\n",
       "    </tr>\n",
       "    <tr>\n",
       "      <th>1</th>\n",
       "      <td>CCC</td>\n",
       "      <td>2014J</td>\n",
       "      <td>1168</td>\n",
       "    </tr>\n",
       "    <tr>\n",
       "      <th>2</th>\n",
       "      <td>DDD</td>\n",
       "      <td>2013B</td>\n",
       "      <td>602</td>\n",
       "    </tr>\n",
       "    <tr>\n",
       "      <th>3</th>\n",
       "      <td>DDD</td>\n",
       "      <td>2013J</td>\n",
       "      <td>968</td>\n",
       "    </tr>\n",
       "    <tr>\n",
       "      <th>4</th>\n",
       "      <td>DDD</td>\n",
       "      <td>2014B</td>\n",
       "      <td>524</td>\n",
       "    </tr>\n",
       "    <tr>\n",
       "      <th>5</th>\n",
       "      <td>DDD</td>\n",
       "      <td>2014J</td>\n",
       "      <td>950</td>\n",
       "    </tr>\n",
       "  </tbody>\n",
       "</table>\n",
       "</div>"
      ],
      "text/plain": [
       "  code_module code_presentation  count_of_ex\n",
       "0         CCC             2014B          747\n",
       "1         CCC             2014J         1168\n",
       "2         DDD             2013B          602\n",
       "3         DDD             2013J          968\n",
       "4         DDD             2014B          524\n",
       "5         DDD             2014J          950"
      ]
     },
     "execution_count": 17,
     "metadata": {},
     "output_type": "execute_result"
    }
   ],
   "source": [
    "stud_asses_asses = studentAssessment.merge(assessments, how = 'inner', on = 'id_assessment')\n",
    "stud_asses_asses.query('assessment_type == \"Exam\"') \\\n",
    "                .groupby(['code_module', 'code_presentation'], as_index = False) \\\n",
    "                .agg(count_of_ex = ('assessment_type', 'count'))"
   ]
  },
  {
   "cell_type": "markdown",
   "metadata": {},
   "source": [
    "Ранее мы выяснили, что по предмету CCC два экзамена. Посмотрим? есть ли среди сдававших те, кто сдавал по два экзамена по каждому предмету + семестру. Наблюдаем, что нет - по предмету CCC в каждом семестре сдавались только по одному экзамену, хотя запланировано два."
   ]
  },
  {
   "cell_type": "code",
   "execution_count": 18,
   "metadata": {},
   "outputs": [
    {
     "data": {
      "text/html": [
       "<div>\n",
       "<style scoped>\n",
       "    .dataframe tbody tr th:only-of-type {\n",
       "        vertical-align: middle;\n",
       "    }\n",
       "\n",
       "    .dataframe tbody tr th {\n",
       "        vertical-align: top;\n",
       "    }\n",
       "\n",
       "    .dataframe thead th {\n",
       "        text-align: right;\n",
       "    }\n",
       "</style>\n",
       "<table border=\"1\" class=\"dataframe\">\n",
       "  <thead>\n",
       "    <tr style=\"text-align: right;\">\n",
       "      <th></th>\n",
       "      <th>code_module</th>\n",
       "      <th>code_presentation</th>\n",
       "      <th>id_assessment</th>\n",
       "      <th>count_of_ex</th>\n",
       "    </tr>\n",
       "  </thead>\n",
       "  <tbody>\n",
       "    <tr>\n",
       "      <th>0</th>\n",
       "      <td>CCC</td>\n",
       "      <td>2014B</td>\n",
       "      <td>24290</td>\n",
       "      <td>747</td>\n",
       "    </tr>\n",
       "    <tr>\n",
       "      <th>1</th>\n",
       "      <td>CCC</td>\n",
       "      <td>2014J</td>\n",
       "      <td>24299</td>\n",
       "      <td>1168</td>\n",
       "    </tr>\n",
       "    <tr>\n",
       "      <th>2</th>\n",
       "      <td>DDD</td>\n",
       "      <td>2013B</td>\n",
       "      <td>25340</td>\n",
       "      <td>602</td>\n",
       "    </tr>\n",
       "    <tr>\n",
       "      <th>3</th>\n",
       "      <td>DDD</td>\n",
       "      <td>2013J</td>\n",
       "      <td>25354</td>\n",
       "      <td>968</td>\n",
       "    </tr>\n",
       "    <tr>\n",
       "      <th>4</th>\n",
       "      <td>DDD</td>\n",
       "      <td>2014B</td>\n",
       "      <td>25361</td>\n",
       "      <td>524</td>\n",
       "    </tr>\n",
       "    <tr>\n",
       "      <th>5</th>\n",
       "      <td>DDD</td>\n",
       "      <td>2014J</td>\n",
       "      <td>25368</td>\n",
       "      <td>950</td>\n",
       "    </tr>\n",
       "  </tbody>\n",
       "</table>\n",
       "</div>"
      ],
      "text/plain": [
       "  code_module code_presentation  id_assessment  count_of_ex\n",
       "0         CCC             2014B          24290          747\n",
       "1         CCC             2014J          24299         1168\n",
       "2         DDD             2013B          25340          602\n",
       "3         DDD             2013J          25354          968\n",
       "4         DDD             2014B          25361          524\n",
       "5         DDD             2014J          25368          950"
      ]
     },
     "execution_count": 18,
     "metadata": {},
     "output_type": "execute_result"
    }
   ],
   "source": [
    "stud_asses_asses.query('assessment_type == \"Exam\"') \\\n",
    "                .groupby(['code_module', 'code_presentation', 'id_assessment'], as_index = False) \\\n",
    "                .agg(count_of_ex = ('assessment_type', 'count'))"
   ]
  },
  {
   "cell_type": "markdown",
   "metadata": {},
   "source": [
    "#### На данный момент мы выяснили, что если верить условию, в теории можно было успешно завершить только курсы по предмету CCC и DDD, т.к по остальным предметам экзамены никто не сдавал.\n",
    "###### Однако на данный момент я еще не определился до конца с тем, что является курсом. Учитывая, что в таблице courses за курс явно понимается предмет + семестр и в самом первом вопросе содержится подсказка, что успешная сдача курса - успешная сдача экзамена по курсу, скорее всего это так, однако разберу еще два возможных варианта.\n",
    "1) Курс - предмет + семестр  \n",
    "2) Курс - предмет и 2+ семестра внутри предмета  \n",
    "3) Курс - все предметы внутри семестра"
   ]
  },
  {
   "cell_type": "markdown",
   "metadata": {},
   "source": [
    "Для опровержения второга пункта (предмет и 2+ семестра внутри предмета), посмотрим на таблицу с регистрациями. По логике. студент должен был регистрироваться сразу на два семестра. А даже если и нет, то в каких-то семестрах всегда должны быть семестры внутри предмета, на которые записалось больше человек чем на следующий семестр (т.к во втором семестре явно кто-то отсеивается)"
   ]
  },
  {
   "cell_type": "code",
   "execution_count": 19,
   "metadata": {},
   "outputs": [
    {
     "data": {
      "text/html": [
       "<div>\n",
       "<style scoped>\n",
       "    .dataframe tbody tr th:only-of-type {\n",
       "        vertical-align: middle;\n",
       "    }\n",
       "\n",
       "    .dataframe tbody tr th {\n",
       "        vertical-align: top;\n",
       "    }\n",
       "\n",
       "    .dataframe thead th {\n",
       "        text-align: right;\n",
       "    }\n",
       "</style>\n",
       "<table border=\"1\" class=\"dataframe\">\n",
       "  <thead>\n",
       "    <tr style=\"text-align: right;\">\n",
       "      <th></th>\n",
       "      <th>id_student</th>\n",
       "      <th>code_module</th>\n",
       "      <th>uniq_presentation</th>\n",
       "    </tr>\n",
       "  </thead>\n",
       "  <tbody>\n",
       "    <tr>\n",
       "      <th>0</th>\n",
       "      <td>8462</td>\n",
       "      <td>DDD</td>\n",
       "      <td>[2013J, 2014J]</td>\n",
       "    </tr>\n",
       "    <tr>\n",
       "      <th>1</th>\n",
       "      <td>24213</td>\n",
       "      <td>DDD</td>\n",
       "      <td>[2013B, 2014B]</td>\n",
       "    </tr>\n",
       "    <tr>\n",
       "      <th>2</th>\n",
       "      <td>25629</td>\n",
       "      <td>BBB</td>\n",
       "      <td>[2013J, 2014B]</td>\n",
       "    </tr>\n",
       "    <tr>\n",
       "      <th>3</th>\n",
       "      <td>27417</td>\n",
       "      <td>DDD</td>\n",
       "      <td>[2013J, 2014J]</td>\n",
       "    </tr>\n",
       "    <tr>\n",
       "      <th>4</th>\n",
       "      <td>27891</td>\n",
       "      <td>BBB</td>\n",
       "      <td>[2013B, 2014B]</td>\n",
       "    </tr>\n",
       "  </tbody>\n",
       "</table>\n",
       "</div>"
      ],
      "text/plain": [
       "   id_student code_module uniq_presentation\n",
       "0        8462         DDD    [2013J, 2014J]\n",
       "1       24213         DDD    [2013B, 2014B]\n",
       "2       25629         BBB    [2013J, 2014B]\n",
       "3       27417         DDD    [2013J, 2014J]\n",
       "4       27891         BBB    [2013B, 2014B]"
      ]
     },
     "execution_count": 19,
     "metadata": {},
     "output_type": "execute_result"
    }
   ],
   "source": [
    "# оставил только тех, кто регался 2+ раза\n",
    "\n",
    "table_reg = studentRegistration.groupby(['id_student', 'code_module'], as_index = False) \\\n",
    "                               .agg(uniq_presentation = ('code_presentation', 'nunique')) \\\n",
    "                               .query('uniq_presentation >=2') \\\n",
    "                               .merge(studentRegistration, how = 'inner', on = ['id_student', 'code_module']) \\\n",
    "                               .groupby(['id_student', 'code_module'], as_index = False) \\\n",
    "                               .agg(uniq_presentation = ('code_presentation', 'unique'))\n",
    "table_reg.head()"
   ]
  },
  {
   "cell_type": "code",
   "execution_count": 20,
   "metadata": {},
   "outputs": [
    {
     "data": {
      "text/html": [
       "<div>\n",
       "<style scoped>\n",
       "    .dataframe tbody tr th:only-of-type {\n",
       "        vertical-align: middle;\n",
       "    }\n",
       "\n",
       "    .dataframe tbody tr th {\n",
       "        vertical-align: top;\n",
       "    }\n",
       "\n",
       "    .dataframe thead th {\n",
       "        text-align: right;\n",
       "    }\n",
       "</style>\n",
       "<table border=\"1\" class=\"dataframe\">\n",
       "  <thead>\n",
       "    <tr style=\"text-align: right;\">\n",
       "      <th></th>\n",
       "      <th>id_student</th>\n",
       "      <th>code_module</th>\n",
       "      <th>uniq_presentation</th>\n",
       "    </tr>\n",
       "  </thead>\n",
       "  <tbody>\n",
       "    <tr>\n",
       "      <th>0</th>\n",
       "      <td>8462</td>\n",
       "      <td>DDD</td>\n",
       "      <td>[2013J, 2014J]</td>\n",
       "    </tr>\n",
       "    <tr>\n",
       "      <th>1</th>\n",
       "      <td>24213</td>\n",
       "      <td>DDD</td>\n",
       "      <td>[2013B, 2014B]</td>\n",
       "    </tr>\n",
       "    <tr>\n",
       "      <th>3</th>\n",
       "      <td>27417</td>\n",
       "      <td>DDD</td>\n",
       "      <td>[2013J, 2014J]</td>\n",
       "    </tr>\n",
       "    <tr>\n",
       "      <th>5</th>\n",
       "      <td>31269</td>\n",
       "      <td>DDD</td>\n",
       "      <td>[2013J, 2014B]</td>\n",
       "    </tr>\n",
       "    <tr>\n",
       "      <th>6</th>\n",
       "      <td>33387</td>\n",
       "      <td>DDD</td>\n",
       "      <td>[2013J, 2014J]</td>\n",
       "    </tr>\n",
       "    <tr>\n",
       "      <th>8</th>\n",
       "      <td>33681</td>\n",
       "      <td>DDD</td>\n",
       "      <td>[2013J, 2014J]</td>\n",
       "    </tr>\n",
       "    <tr>\n",
       "      <th>9</th>\n",
       "      <td>33897</td>\n",
       "      <td>DDD</td>\n",
       "      <td>[2013J, 2014J]</td>\n",
       "    </tr>\n",
       "    <tr>\n",
       "      <th>10</th>\n",
       "      <td>34087</td>\n",
       "      <td>DDD</td>\n",
       "      <td>[2013J, 2014J]</td>\n",
       "    </tr>\n",
       "    <tr>\n",
       "      <th>13</th>\n",
       "      <td>40419</td>\n",
       "      <td>DDD</td>\n",
       "      <td>[2013B, 2013J]</td>\n",
       "    </tr>\n",
       "    <tr>\n",
       "      <th>17</th>\n",
       "      <td>53632</td>\n",
       "      <td>DDD</td>\n",
       "      <td>[2014B, 2014J]</td>\n",
       "    </tr>\n",
       "  </tbody>\n",
       "</table>\n",
       "</div>"
      ],
      "text/plain": [
       "    id_student code_module uniq_presentation\n",
       "0         8462         DDD    [2013J, 2014J]\n",
       "1        24213         DDD    [2013B, 2014B]\n",
       "3        27417         DDD    [2013J, 2014J]\n",
       "5        31269         DDD    [2013J, 2014B]\n",
       "6        33387         DDD    [2013J, 2014J]\n",
       "8        33681         DDD    [2013J, 2014J]\n",
       "9        33897         DDD    [2013J, 2014J]\n",
       "10       34087         DDD    [2013J, 2014J]\n",
       "13       40419         DDD    [2013B, 2013J]\n",
       "17       53632         DDD    [2014B, 2014J]"
      ]
     },
     "execution_count": 20,
     "metadata": {},
     "output_type": "execute_result"
    }
   ],
   "source": [
    "table_reg.query('code_module == \"DDD\"').head(10)"
   ]
  },
  {
   "cell_type": "markdown",
   "metadata": {},
   "source": [
    "#### Внимательно посмотрев таблицу, я увидел, что нет единой системы, определяющей последовательность семестров. Мы не можем знать, какой семестр начался раньше (т.к  у нас нет дат, только дни до/от начала семестра), поэтому ладе если встречаются 2013J, 2013 B, а потом 2013B, 2013J мы не можем утверждать, что это не случайная последовательность. Однако есть пары, например, такие как 2013J, 2014B (id_student 31269) и 2013J, 2014J (id_student 33387). Таким образом, гипотеза о том, что за курс можно принять 2+ семестра внутри одного предмета - не подтвердилась, т.к тогда была бы какая-то единая последовательность. Можно придумать и этому обоснование при желании, однако первый вариант (Курс - предмет + семестр) намного более вероятен"
   ]
  },
  {
   "cell_type": "markdown",
   "metadata": {},
   "source": [
    "Теперь опровергнем 3ью гипотезу о том, что такое курс (Курс - все предметы внутри семестра)"
   ]
  },
  {
   "cell_type": "code",
   "execution_count": 21,
   "metadata": {},
   "outputs": [
    {
     "data": {
      "text/html": [
       "<div>\n",
       "<style scoped>\n",
       "    .dataframe tbody tr th:only-of-type {\n",
       "        vertical-align: middle;\n",
       "    }\n",
       "\n",
       "    .dataframe tbody tr th {\n",
       "        vertical-align: top;\n",
       "    }\n",
       "\n",
       "    .dataframe thead th {\n",
       "        text-align: right;\n",
       "    }\n",
       "</style>\n",
       "<table border=\"1\" class=\"dataframe\">\n",
       "  <thead>\n",
       "    <tr style=\"text-align: right;\">\n",
       "      <th></th>\n",
       "      <th>code_presentation</th>\n",
       "      <th>code_module</th>\n",
       "    </tr>\n",
       "  </thead>\n",
       "  <tbody>\n",
       "    <tr>\n",
       "      <th>0</th>\n",
       "      <td>2013B</td>\n",
       "      <td>[BBB, DDD, FFF]</td>\n",
       "    </tr>\n",
       "    <tr>\n",
       "      <th>1</th>\n",
       "      <td>2013J</td>\n",
       "      <td>[AAA, BBB, DDD, EEE, FFF, GGG]</td>\n",
       "    </tr>\n",
       "    <tr>\n",
       "      <th>2</th>\n",
       "      <td>2014B</td>\n",
       "      <td>[BBB, CCC, DDD, EEE, FFF, GGG]</td>\n",
       "    </tr>\n",
       "    <tr>\n",
       "      <th>3</th>\n",
       "      <td>2014J</td>\n",
       "      <td>[AAA, BBB, CCC, DDD, EEE, FFF, GGG]</td>\n",
       "    </tr>\n",
       "  </tbody>\n",
       "</table>\n",
       "</div>"
      ],
      "text/plain": [
       "  code_presentation                          code_module\n",
       "0             2013B                      [BBB, DDD, FFF]\n",
       "1             2013J       [AAA, BBB, DDD, EEE, FFF, GGG]\n",
       "2             2014B       [BBB, CCC, DDD, EEE, FFF, GGG]\n",
       "3             2014J  [AAA, BBB, CCC, DDD, EEE, FFF, GGG]"
      ]
     },
     "execution_count": 21,
     "metadata": {},
     "output_type": "execute_result"
    }
   ],
   "source": [
    "courses.groupby('code_presentation', as_index = False).agg({'code_module' : 'unique'})"
   ]
  },
  {
   "cell_type": "markdown",
   "metadata": {},
   "source": [
    "Предварительный вывод по гипотезе 3:\n",
    "Из предметов, которые попадаются во все семестры - это DDD, однако экзамены сдавались только по DDD и CCC. Мы можем предположить, что достаточно сдать экзамен по DDD (а если в семестре есть CCC - то и по нему), что бы успешно завершить курс, который в данном случае понимается как окончание каждого предмета + сдача экзамена по DDD (а где есть - еще и по CCC) внутри семестра. Однако прежде посчитаем, сколько учеников окончили каждый предмет хотя бы семестра 2013B"
   ]
  },
  {
   "cell_type": "code",
   "execution_count": 22,
   "metadata": {},
   "outputs": [
    {
     "data": {
      "text/html": [
       "<div>\n",
       "<style scoped>\n",
       "    .dataframe tbody tr th:only-of-type {\n",
       "        vertical-align: middle;\n",
       "    }\n",
       "\n",
       "    .dataframe tbody tr th {\n",
       "        vertical-align: top;\n",
       "    }\n",
       "\n",
       "    .dataframe thead th {\n",
       "        text-align: right;\n",
       "    }\n",
       "</style>\n",
       "<table border=\"1\" class=\"dataframe\">\n",
       "  <thead>\n",
       "    <tr style=\"text-align: right;\">\n",
       "      <th></th>\n",
       "      <th>id_student</th>\n",
       "      <th>count_module</th>\n",
       "    </tr>\n",
       "  </thead>\n",
       "  <tbody>\n",
       "  </tbody>\n",
       "</table>\n",
       "</div>"
      ],
      "text/plain": [
       "Empty DataFrame\n",
       "Columns: [id_student, count_module]\n",
       "Index: []"
      ]
     },
     "execution_count": 22,
     "metadata": {},
     "output_type": "execute_result"
    }
   ],
   "source": [
    "studentRegistration.query('date_unregistration == \"NaN\" and code_presentation == \"2013B\"') \\\n",
    "                   .groupby('id_student', as_index = False) \\\n",
    "                   .agg(count_module = ('code_module', 'nunique')).query('count_module >= 2')"
   ]
  },
  {
   "cell_type": "code",
   "execution_count": 23,
   "metadata": {},
   "outputs": [
    {
     "data": {
      "text/html": [
       "<div>\n",
       "<style scoped>\n",
       "    .dataframe tbody tr th:only-of-type {\n",
       "        vertical-align: middle;\n",
       "    }\n",
       "\n",
       "    .dataframe tbody tr th {\n",
       "        vertical-align: top;\n",
       "    }\n",
       "\n",
       "    .dataframe thead th {\n",
       "        text-align: right;\n",
       "    }\n",
       "</style>\n",
       "<table border=\"1\" class=\"dataframe\">\n",
       "  <thead>\n",
       "    <tr style=\"text-align: right;\">\n",
       "      <th></th>\n",
       "      <th>id_student</th>\n",
       "      <th>count_module</th>\n",
       "    </tr>\n",
       "  </thead>\n",
       "  <tbody>\n",
       "    <tr>\n",
       "      <th>1024</th>\n",
       "      <td>390029</td>\n",
       "      <td>2</td>\n",
       "    </tr>\n",
       "  </tbody>\n",
       "</table>\n",
       "</div>"
      ],
      "text/plain": [
       "      id_student  count_module\n",
       "1024      390029             2"
      ]
     },
     "execution_count": 23,
     "metadata": {},
     "output_type": "execute_result"
    }
   ],
   "source": [
    "studentRegistration.query('date_unregistration == \"NaN\" and code_presentation == \"2013J\"') \\\n",
    "                   .groupby('id_student', as_index = False) \\\n",
    "                   .agg(count_module = ('code_module', 'nunique')).query('count_module >= 2')"
   ]
  },
  {
   "cell_type": "code",
   "execution_count": 24,
   "metadata": {},
   "outputs": [
    {
     "data": {
      "text/html": [
       "<div>\n",
       "<style scoped>\n",
       "    .dataframe tbody tr th:only-of-type {\n",
       "        vertical-align: middle;\n",
       "    }\n",
       "\n",
       "    .dataframe tbody tr th {\n",
       "        vertical-align: top;\n",
       "    }\n",
       "\n",
       "    .dataframe thead th {\n",
       "        text-align: right;\n",
       "    }\n",
       "</style>\n",
       "<table border=\"1\" class=\"dataframe\">\n",
       "  <thead>\n",
       "    <tr style=\"text-align: right;\">\n",
       "      <th></th>\n",
       "      <th>id_student</th>\n",
       "      <th>count_module</th>\n",
       "    </tr>\n",
       "  </thead>\n",
       "  <tbody>\n",
       "    <tr>\n",
       "      <th>13</th>\n",
       "      <td>29820</td>\n",
       "      <td>2</td>\n",
       "    </tr>\n",
       "    <tr>\n",
       "      <th>3467</th>\n",
       "      <td>626516</td>\n",
       "      <td>2</td>\n",
       "    </tr>\n",
       "    <tr>\n",
       "      <th>3251</th>\n",
       "      <td>624441</td>\n",
       "      <td>2</td>\n",
       "    </tr>\n",
       "    <tr>\n",
       "      <th>3265</th>\n",
       "      <td>624591</td>\n",
       "      <td>2</td>\n",
       "    </tr>\n",
       "    <tr>\n",
       "      <th>3286</th>\n",
       "      <td>624782</td>\n",
       "      <td>2</td>\n",
       "    </tr>\n",
       "    <tr>\n",
       "      <th>...</th>\n",
       "      <td>...</td>\n",
       "      <td>...</td>\n",
       "    </tr>\n",
       "    <tr>\n",
       "      <th>1796</th>\n",
       "      <td>577245</td>\n",
       "      <td>2</td>\n",
       "    </tr>\n",
       "    <tr>\n",
       "      <th>1800</th>\n",
       "      <td>577352</td>\n",
       "      <td>2</td>\n",
       "    </tr>\n",
       "    <tr>\n",
       "      <th>1830</th>\n",
       "      <td>578958</td>\n",
       "      <td>2</td>\n",
       "    </tr>\n",
       "    <tr>\n",
       "      <th>1899</th>\n",
       "      <td>585393</td>\n",
       "      <td>2</td>\n",
       "    </tr>\n",
       "    <tr>\n",
       "      <th>4915</th>\n",
       "      <td>2609908</td>\n",
       "      <td>2</td>\n",
       "    </tr>\n",
       "  </tbody>\n",
       "</table>\n",
       "<p>188 rows × 2 columns</p>\n",
       "</div>"
      ],
      "text/plain": [
       "      id_student  count_module\n",
       "13         29820             2\n",
       "3467      626516             2\n",
       "3251      624441             2\n",
       "3265      624591             2\n",
       "3286      624782             2\n",
       "...          ...           ...\n",
       "1796      577245             2\n",
       "1800      577352             2\n",
       "1830      578958             2\n",
       "1899      585393             2\n",
       "4915     2609908             2\n",
       "\n",
       "[188 rows x 2 columns]"
      ]
     },
     "execution_count": 24,
     "metadata": {},
     "output_type": "execute_result"
    }
   ],
   "source": [
    "studentRegistration.query('date_unregistration == \"NaN\" and code_presentation == \"2014B\"') \\\n",
    "                   .groupby('id_student', as_index = False) \\\n",
    "                   .agg(count_module = ('code_module', 'nunique')).query('count_module >= 2') \\\n",
    "                   .sort_values('count_module', ascending = False)"
   ]
  },
  {
   "cell_type": "code",
   "execution_count": 25,
   "metadata": {},
   "outputs": [
    {
     "data": {
      "text/html": [
       "<div>\n",
       "<style scoped>\n",
       "    .dataframe tbody tr th:only-of-type {\n",
       "        vertical-align: middle;\n",
       "    }\n",
       "\n",
       "    .dataframe tbody tr th {\n",
       "        vertical-align: top;\n",
       "    }\n",
       "\n",
       "    .dataframe thead th {\n",
       "        text-align: right;\n",
       "    }\n",
       "</style>\n",
       "<table border=\"1\" class=\"dataframe\">\n",
       "  <thead>\n",
       "    <tr style=\"text-align: right;\">\n",
       "      <th></th>\n",
       "      <th>id_student</th>\n",
       "      <th>count_module</th>\n",
       "    </tr>\n",
       "  </thead>\n",
       "  <tbody>\n",
       "    <tr>\n",
       "      <th>58</th>\n",
       "      <td>60809</td>\n",
       "      <td>2</td>\n",
       "    </tr>\n",
       "    <tr>\n",
       "      <th>5195</th>\n",
       "      <td>680133</td>\n",
       "      <td>2</td>\n",
       "    </tr>\n",
       "    <tr>\n",
       "      <th>5025</th>\n",
       "      <td>677741</td>\n",
       "      <td>2</td>\n",
       "    </tr>\n",
       "    <tr>\n",
       "      <th>5058</th>\n",
       "      <td>678194</td>\n",
       "      <td>2</td>\n",
       "    </tr>\n",
       "    <tr>\n",
       "      <th>5059</th>\n",
       "      <td>678203</td>\n",
       "      <td>2</td>\n",
       "    </tr>\n",
       "    <tr>\n",
       "      <th>...</th>\n",
       "      <td>...</td>\n",
       "      <td>...</td>\n",
       "    </tr>\n",
       "    <tr>\n",
       "      <th>3651</th>\n",
       "      <td>644246</td>\n",
       "      <td>2</td>\n",
       "    </tr>\n",
       "    <tr>\n",
       "      <th>3657</th>\n",
       "      <td>644369</td>\n",
       "      <td>2</td>\n",
       "    </tr>\n",
       "    <tr>\n",
       "      <th>3667</th>\n",
       "      <td>644480</td>\n",
       "      <td>2</td>\n",
       "    </tr>\n",
       "    <tr>\n",
       "      <th>3692</th>\n",
       "      <td>644974</td>\n",
       "      <td>2</td>\n",
       "    </tr>\n",
       "    <tr>\n",
       "      <th>7273</th>\n",
       "      <td>2686712</td>\n",
       "      <td>2</td>\n",
       "    </tr>\n",
       "  </tbody>\n",
       "</table>\n",
       "<p>232 rows × 2 columns</p>\n",
       "</div>"
      ],
      "text/plain": [
       "      id_student  count_module\n",
       "58         60809             2\n",
       "5195      680133             2\n",
       "5025      677741             2\n",
       "5058      678194             2\n",
       "5059      678203             2\n",
       "...          ...           ...\n",
       "3651      644246             2\n",
       "3657      644369             2\n",
       "3667      644480             2\n",
       "3692      644974             2\n",
       "7273     2686712             2\n",
       "\n",
       "[232 rows x 2 columns]"
      ]
     },
     "execution_count": 25,
     "metadata": {},
     "output_type": "execute_result"
    }
   ],
   "source": [
    "studentRegistration.query('date_unregistration == \"NaN\" and code_presentation == \"2014J\"') \\\n",
    "                   .groupby('id_student', as_index = False) \\\n",
    "                   .agg(count_module = ('code_module', 'nunique')).query('count_module >= 2') \\\n",
    "                   .sort_values('count_module', ascending = False)"
   ]
  },
  {
   "cell_type": "markdown",
   "metadata": {},
   "source": [
    "### Если гипотеза о том, что курс - все предметы внутри семестра верна, то в семестре 2013B из завершивлих выбранные предметы (не обязательно успешно, т.к успех - сдача экзамена) никто не выбрал больше одного предмета, хотя надо было три. В остальных семестрах никто не выбрал больше двух предметов, хотя надо было 6-7. Данная гипотеза отвергается."
   ]
  },
  {
   "cell_type": "markdown",
   "metadata": {},
   "source": [
    "Теперь дополнительно проверим первую гипотезу от том, что курс - предмет + семестр. В assessments сказано, что weight — вес теста в % в оценке за курс. Обычно экзамены рассматриваются отдельно и имеют вес 100%; сумма всех остальных оценок составляет 100%. Т.е если гипотеза верна - значит сумма всех возможных оценок за тест внутри курса будет равна 100"
   ]
  },
  {
   "cell_type": "code",
   "execution_count": 26,
   "metadata": {},
   "outputs": [
    {
     "data": {
      "text/html": [
       "<div>\n",
       "<style scoped>\n",
       "    .dataframe tbody tr th:only-of-type {\n",
       "        vertical-align: middle;\n",
       "    }\n",
       "\n",
       "    .dataframe tbody tr th {\n",
       "        vertical-align: top;\n",
       "    }\n",
       "\n",
       "    .dataframe thead th {\n",
       "        text-align: right;\n",
       "    }\n",
       "</style>\n",
       "<table border=\"1\" class=\"dataframe\">\n",
       "  <thead>\n",
       "    <tr style=\"text-align: right;\">\n",
       "      <th></th>\n",
       "      <th>code_module</th>\n",
       "      <th>code_presentation</th>\n",
       "      <th>sum_score</th>\n",
       "    </tr>\n",
       "  </thead>\n",
       "  <tbody>\n",
       "    <tr>\n",
       "      <th>0</th>\n",
       "      <td>AAA</td>\n",
       "      <td>2013J</td>\n",
       "      <td>100.0</td>\n",
       "    </tr>\n",
       "    <tr>\n",
       "      <th>1</th>\n",
       "      <td>AAA</td>\n",
       "      <td>2014J</td>\n",
       "      <td>100.0</td>\n",
       "    </tr>\n",
       "    <tr>\n",
       "      <th>2</th>\n",
       "      <td>BBB</td>\n",
       "      <td>2013B</td>\n",
       "      <td>100.0</td>\n",
       "    </tr>\n",
       "    <tr>\n",
       "      <th>3</th>\n",
       "      <td>BBB</td>\n",
       "      <td>2013J</td>\n",
       "      <td>100.0</td>\n",
       "    </tr>\n",
       "    <tr>\n",
       "      <th>4</th>\n",
       "      <td>BBB</td>\n",
       "      <td>2014B</td>\n",
       "      <td>100.0</td>\n",
       "    </tr>\n",
       "    <tr>\n",
       "      <th>5</th>\n",
       "      <td>BBB</td>\n",
       "      <td>2014J</td>\n",
       "      <td>100.0</td>\n",
       "    </tr>\n",
       "    <tr>\n",
       "      <th>6</th>\n",
       "      <td>CCC</td>\n",
       "      <td>2014B</td>\n",
       "      <td>100.0</td>\n",
       "    </tr>\n",
       "    <tr>\n",
       "      <th>7</th>\n",
       "      <td>CCC</td>\n",
       "      <td>2014J</td>\n",
       "      <td>100.0</td>\n",
       "    </tr>\n",
       "    <tr>\n",
       "      <th>8</th>\n",
       "      <td>DDD</td>\n",
       "      <td>2013B</td>\n",
       "      <td>100.0</td>\n",
       "    </tr>\n",
       "    <tr>\n",
       "      <th>9</th>\n",
       "      <td>DDD</td>\n",
       "      <td>2013J</td>\n",
       "      <td>100.0</td>\n",
       "    </tr>\n",
       "    <tr>\n",
       "      <th>10</th>\n",
       "      <td>DDD</td>\n",
       "      <td>2014B</td>\n",
       "      <td>100.0</td>\n",
       "    </tr>\n",
       "    <tr>\n",
       "      <th>11</th>\n",
       "      <td>DDD</td>\n",
       "      <td>2014J</td>\n",
       "      <td>100.0</td>\n",
       "    </tr>\n",
       "    <tr>\n",
       "      <th>12</th>\n",
       "      <td>EEE</td>\n",
       "      <td>2013J</td>\n",
       "      <td>100.0</td>\n",
       "    </tr>\n",
       "    <tr>\n",
       "      <th>13</th>\n",
       "      <td>EEE</td>\n",
       "      <td>2014B</td>\n",
       "      <td>100.0</td>\n",
       "    </tr>\n",
       "    <tr>\n",
       "      <th>14</th>\n",
       "      <td>EEE</td>\n",
       "      <td>2014J</td>\n",
       "      <td>100.0</td>\n",
       "    </tr>\n",
       "    <tr>\n",
       "      <th>15</th>\n",
       "      <td>FFF</td>\n",
       "      <td>2013B</td>\n",
       "      <td>100.0</td>\n",
       "    </tr>\n",
       "    <tr>\n",
       "      <th>16</th>\n",
       "      <td>FFF</td>\n",
       "      <td>2013J</td>\n",
       "      <td>100.0</td>\n",
       "    </tr>\n",
       "    <tr>\n",
       "      <th>17</th>\n",
       "      <td>FFF</td>\n",
       "      <td>2014B</td>\n",
       "      <td>100.0</td>\n",
       "    </tr>\n",
       "    <tr>\n",
       "      <th>18</th>\n",
       "      <td>FFF</td>\n",
       "      <td>2014J</td>\n",
       "      <td>100.0</td>\n",
       "    </tr>\n",
       "    <tr>\n",
       "      <th>19</th>\n",
       "      <td>GGG</td>\n",
       "      <td>2013J</td>\n",
       "      <td>0.0</td>\n",
       "    </tr>\n",
       "    <tr>\n",
       "      <th>20</th>\n",
       "      <td>GGG</td>\n",
       "      <td>2014B</td>\n",
       "      <td>0.0</td>\n",
       "    </tr>\n",
       "    <tr>\n",
       "      <th>21</th>\n",
       "      <td>GGG</td>\n",
       "      <td>2014J</td>\n",
       "      <td>0.0</td>\n",
       "    </tr>\n",
       "  </tbody>\n",
       "</table>\n",
       "</div>"
      ],
      "text/plain": [
       "   code_module code_presentation  sum_score\n",
       "0          AAA             2013J      100.0\n",
       "1          AAA             2014J      100.0\n",
       "2          BBB             2013B      100.0\n",
       "3          BBB             2013J      100.0\n",
       "4          BBB             2014B      100.0\n",
       "5          BBB             2014J      100.0\n",
       "6          CCC             2014B      100.0\n",
       "7          CCC             2014J      100.0\n",
       "8          DDD             2013B      100.0\n",
       "9          DDD             2013J      100.0\n",
       "10         DDD             2014B      100.0\n",
       "11         DDD             2014J      100.0\n",
       "12         EEE             2013J      100.0\n",
       "13         EEE             2014B      100.0\n",
       "14         EEE             2014J      100.0\n",
       "15         FFF             2013B      100.0\n",
       "16         FFF             2013J      100.0\n",
       "17         FFF             2014B      100.0\n",
       "18         FFF             2014J      100.0\n",
       "19         GGG             2013J        0.0\n",
       "20         GGG             2014B        0.0\n",
       "21         GGG             2014J        0.0"
      ]
     },
     "execution_count": 26,
     "metadata": {},
     "output_type": "execute_result"
    }
   ],
   "source": [
    "assessments.query('assessment_type != \"Exam\"') \\\n",
    "           .groupby(['code_module', 'code_presentation'], as_index = False) \\\n",
    "           .agg(sum_score = ('weight', 'sum'))"
   ]
  },
  {
   "cell_type": "code",
   "execution_count": 27,
   "metadata": {},
   "outputs": [
    {
     "data": {
      "text/plain": [
       "0.0    27\n",
       "Name: weight, dtype: int64"
      ]
     },
     "execution_count": 27,
     "metadata": {},
     "output_type": "execute_result"
    }
   ],
   "source": [
    "# проверим что с GGG. Видимо по этому предмету не велся подсчет очков\n",
    "assessments.query('assessment_type != \"Exam\" and code_module == \"GGG\"').weight.value_counts()"
   ]
  },
  {
   "cell_type": "markdown",
   "metadata": {},
   "source": [
    "дополнительно найдем всех, кто сдал экзамен успешно и узнаем, все ли они отмечены в графе \"отмена регистрации\" в таблице с регистрацией, как NAN (т.е как окончившие курс). Успешная сдача экзамена - набор 40+ баллов"
   ]
  },
  {
   "cell_type": "code",
   "execution_count": 28,
   "metadata": {},
   "outputs": [
    {
     "data": {
      "text/plain": [
       "100.0    24\n",
       "Name: weight, dtype: int64"
      ]
     },
     "execution_count": 28,
     "metadata": {},
     "output_type": "execute_result"
    }
   ],
   "source": [
    "# проверим точно ли вес каждого экзамена = 100, хотя нам нужны только по предметам CCC и DDD\n",
    "assessments.query('assessment_type == \"Exam\"').weight.value_counts()"
   ]
  },
  {
   "cell_type": "code",
   "execution_count": 29,
   "metadata": {},
   "outputs": [],
   "source": [
    "# ранее джойнил две таблицы\n",
    "exam_score = stud_asses_asses.query('assessment_type == \"Exam\" and score >= 40')"
   ]
  },
  {
   "cell_type": "code",
   "execution_count": 30,
   "metadata": {},
   "outputs": [
    {
     "data": {
      "text/plain": [
       "True"
      ]
     },
     "execution_count": 30,
     "metadata": {},
     "output_type": "execute_result"
    }
   ],
   "source": [
    "len(studentRegistration.query('date_unregistration == \"NaN\"') \\\n",
    "                   .merge(exam_score, on = ['id_student', 'code_module', 'code_presentation'])) == len(exam_score)"
   ]
  },
  {
   "cell_type": "markdown",
   "metadata": {},
   "source": [
    "## Путем изучения данных делаем вывод о том, что за курс будем воспринимать предмет и любой отдельный семестр. То есть курсов 22, по количеству строк в courses"
   ]
  },
  {
   "cell_type": "code",
   "execution_count": null,
   "metadata": {},
   "outputs": [],
   "source": []
  },
  {
   "cell_type": "markdown",
   "metadata": {},
   "source": [
    "# 1. Сколько студентов успешно сдали только один курс? (Успешная сдача — это зачёт по курсу на экзамене)"
   ]
  },
  {
   "cell_type": "markdown",
   "metadata": {},
   "source": [
    "выясним, был ли кто-то, кто сдавал экзамен по одному и тому же курсу два раза. Ранее выяснили, что для ССС предусматривается два экзамена, но в обоих курсах сдавали по одному, поэтому в будущем будем считать сдачу одного экзамена по ССС за успешную сдачу.\n",
    "Вывод: все сдавали экзамен по курсу по одному разу"
   ]
  },
  {
   "cell_type": "code",
   "execution_count": 31,
   "metadata": {},
   "outputs": [
    {
     "data": {
      "text/html": [
       "<div>\n",
       "<style scoped>\n",
       "    .dataframe tbody tr th:only-of-type {\n",
       "        vertical-align: middle;\n",
       "    }\n",
       "\n",
       "    .dataframe tbody tr th {\n",
       "        vertical-align: top;\n",
       "    }\n",
       "\n",
       "    .dataframe thead th {\n",
       "        text-align: right;\n",
       "    }\n",
       "</style>\n",
       "<table border=\"1\" class=\"dataframe\">\n",
       "  <thead>\n",
       "    <tr style=\"text-align: right;\">\n",
       "      <th></th>\n",
       "      <th>id_student</th>\n",
       "      <th>code_module</th>\n",
       "      <th>code_presentation</th>\n",
       "      <th>size</th>\n",
       "    </tr>\n",
       "  </thead>\n",
       "  <tbody>\n",
       "  </tbody>\n",
       "</table>\n",
       "</div>"
      ],
      "text/plain": [
       "Empty DataFrame\n",
       "Columns: [id_student, code_module, code_presentation, size]\n",
       "Index: []"
      ]
     },
     "execution_count": 31,
     "metadata": {},
     "output_type": "execute_result"
    }
   ],
   "source": [
    "# т.к только в ССС могло быть два экзамена, но никто два не сдавал, не группируем дополнительно по id_assessment\n",
    "stud_asses_asses.query('assessment_type == \"Exam\"') \\\n",
    "                .groupby(['id_student', 'code_module', 'code_presentation'], as_index = False) \\\n",
    "                .size().query('size != 1')"
   ]
  },
  {
   "cell_type": "code",
   "execution_count": 32,
   "metadata": {},
   "outputs": [
    {
     "data": {
      "text/html": [
       "<div>\n",
       "<style scoped>\n",
       "    .dataframe tbody tr th:only-of-type {\n",
       "        vertical-align: middle;\n",
       "    }\n",
       "\n",
       "    .dataframe tbody tr th {\n",
       "        vertical-align: top;\n",
       "    }\n",
       "\n",
       "    .dataframe thead th {\n",
       "        text-align: right;\n",
       "    }\n",
       "</style>\n",
       "<table border=\"1\" class=\"dataframe\">\n",
       "  <thead>\n",
       "    <tr style=\"text-align: right;\">\n",
       "      <th></th>\n",
       "      <th>id_student</th>\n",
       "      <th>count_exam</th>\n",
       "    </tr>\n",
       "  </thead>\n",
       "  <tbody>\n",
       "    <tr>\n",
       "      <th>0</th>\n",
       "      <td>23698</td>\n",
       "      <td>1</td>\n",
       "    </tr>\n",
       "    <tr>\n",
       "      <th>1</th>\n",
       "      <td>24213</td>\n",
       "      <td>1</td>\n",
       "    </tr>\n",
       "    <tr>\n",
       "      <th>2</th>\n",
       "      <td>27116</td>\n",
       "      <td>1</td>\n",
       "    </tr>\n",
       "    <tr>\n",
       "      <th>3</th>\n",
       "      <td>28046</td>\n",
       "      <td>1</td>\n",
       "    </tr>\n",
       "    <tr>\n",
       "      <th>4</th>\n",
       "      <td>28787</td>\n",
       "      <td>1</td>\n",
       "    </tr>\n",
       "    <tr>\n",
       "      <th>...</th>\n",
       "      <td>...</td>\n",
       "      <td>...</td>\n",
       "    </tr>\n",
       "    <tr>\n",
       "      <th>4092</th>\n",
       "      <td>2694886</td>\n",
       "      <td>1</td>\n",
       "    </tr>\n",
       "    <tr>\n",
       "      <th>4093</th>\n",
       "      <td>2694933</td>\n",
       "      <td>1</td>\n",
       "    </tr>\n",
       "    <tr>\n",
       "      <th>4094</th>\n",
       "      <td>2695608</td>\n",
       "      <td>1</td>\n",
       "    </tr>\n",
       "    <tr>\n",
       "      <th>4095</th>\n",
       "      <td>2697181</td>\n",
       "      <td>1</td>\n",
       "    </tr>\n",
       "    <tr>\n",
       "      <th>4096</th>\n",
       "      <td>2698251</td>\n",
       "      <td>1</td>\n",
       "    </tr>\n",
       "  </tbody>\n",
       "</table>\n",
       "<p>3802 rows × 2 columns</p>\n",
       "</div>"
      ],
      "text/plain": [
       "      id_student  count_exam\n",
       "0          23698           1\n",
       "1          24213           1\n",
       "2          27116           1\n",
       "3          28046           1\n",
       "4          28787           1\n",
       "...          ...         ...\n",
       "4092     2694886           1\n",
       "4093     2694933           1\n",
       "4094     2695608           1\n",
       "4095     2697181           1\n",
       "4096     2698251           1\n",
       "\n",
       "[3802 rows x 2 columns]"
      ]
     },
     "execution_count": 32,
     "metadata": {},
     "output_type": "execute_result"
    }
   ],
   "source": [
    "count_exam =   stud_asses_asses.query('assessment_type == \"Exam\" and score >= 40') \\\n",
    "                               .groupby('id_student', as_index = False) \\\n",
    "                               .agg(count_exam = ('assessment_type', 'count')) \\\n",
    "                               .query('count_exam == 1')\n",
    "count_exam"
   ]
  },
  {
   "cell_type": "markdown",
   "metadata": {},
   "source": [
    "# Ответ по первому вопросу:\n",
    "# Исходя из того, что сданный курс - успешно сданный экзамен, а для успешной сдачи курса, где предмет ССС нужно сдать один экзамен из двух, успешно завершили только один курс 3802 студента. Данных подход не учитывал, например, просроченную сдачу экзамена."
   ]
  },
  {
   "cell_type": "code",
   "execution_count": null,
   "metadata": {},
   "outputs": [],
   "source": []
  },
  {
   "cell_type": "markdown",
   "metadata": {},
   "source": [
    "## ДОП задание. Сделать тоже самое, но с учетом отсеивания по сроку сдачи. Критерии отсеивания выбрать самостоятельно\n",
    "попробуем отсеить тех, кто сильно опоздал со сдачей экзамена. У нас есть данные по длинне каждого курса, а также есть данные о конечной дате, когда тест (тут - экзамен) мог быть сдан. Однако колонке с конечной датой по тесту (тут - экзамен) много NaN. Определю среднее время между длинной курса и конечной датой сдачи экзамена для того, что бы заполнить NaN в конечной дате сдачи экзамена. При этом мы не можем сразу взять тех студентов, которые сдали лишь один экзамен, поскольку среди тех, кто сдал более одного кто-то мог сдать один в разумный срок, а другой с опозданием в, например, 100 дней"
   ]
  },
  {
   "cell_type": "code",
   "execution_count": 33,
   "metadata": {},
   "outputs": [
    {
     "data": {
      "text/html": [
       "<div>\n",
       "<style scoped>\n",
       "    .dataframe tbody tr th:only-of-type {\n",
       "        vertical-align: middle;\n",
       "    }\n",
       "\n",
       "    .dataframe tbody tr th {\n",
       "        vertical-align: top;\n",
       "    }\n",
       "\n",
       "    .dataframe thead th {\n",
       "        text-align: right;\n",
       "    }\n",
       "</style>\n",
       "<table border=\"1\" class=\"dataframe\">\n",
       "  <thead>\n",
       "    <tr style=\"text-align: right;\">\n",
       "      <th></th>\n",
       "      <th>id_assessment</th>\n",
       "      <th>id_student</th>\n",
       "      <th>date_submitted</th>\n",
       "      <th>is_banked</th>\n",
       "      <th>score</th>\n",
       "      <th>code_module</th>\n",
       "      <th>code_presentation</th>\n",
       "      <th>assessment_type</th>\n",
       "      <th>date</th>\n",
       "      <th>weight</th>\n",
       "      <th>module_presentation_length</th>\n",
       "    </tr>\n",
       "  </thead>\n",
       "  <tbody>\n",
       "    <tr>\n",
       "      <th>0</th>\n",
       "      <td>24290</td>\n",
       "      <td>559706</td>\n",
       "      <td>234</td>\n",
       "      <td>0</td>\n",
       "      <td>78.0</td>\n",
       "      <td>CCC</td>\n",
       "      <td>2014B</td>\n",
       "      <td>Exam</td>\n",
       "      <td>NaN</td>\n",
       "      <td>100.0</td>\n",
       "      <td>241</td>\n",
       "    </tr>\n",
       "    <tr>\n",
       "      <th>1</th>\n",
       "      <td>24290</td>\n",
       "      <td>559770</td>\n",
       "      <td>230</td>\n",
       "      <td>0</td>\n",
       "      <td>54.0</td>\n",
       "      <td>CCC</td>\n",
       "      <td>2014B</td>\n",
       "      <td>Exam</td>\n",
       "      <td>NaN</td>\n",
       "      <td>100.0</td>\n",
       "      <td>241</td>\n",
       "    </tr>\n",
       "    <tr>\n",
       "      <th>2</th>\n",
       "      <td>24290</td>\n",
       "      <td>560114</td>\n",
       "      <td>230</td>\n",
       "      <td>0</td>\n",
       "      <td>64.0</td>\n",
       "      <td>CCC</td>\n",
       "      <td>2014B</td>\n",
       "      <td>Exam</td>\n",
       "      <td>NaN</td>\n",
       "      <td>100.0</td>\n",
       "      <td>241</td>\n",
       "    </tr>\n",
       "    <tr>\n",
       "      <th>3</th>\n",
       "      <td>24290</td>\n",
       "      <td>560311</td>\n",
       "      <td>234</td>\n",
       "      <td>0</td>\n",
       "      <td>100.0</td>\n",
       "      <td>CCC</td>\n",
       "      <td>2014B</td>\n",
       "      <td>Exam</td>\n",
       "      <td>NaN</td>\n",
       "      <td>100.0</td>\n",
       "      <td>241</td>\n",
       "    </tr>\n",
       "    <tr>\n",
       "      <th>4</th>\n",
       "      <td>24290</td>\n",
       "      <td>560494</td>\n",
       "      <td>230</td>\n",
       "      <td>0</td>\n",
       "      <td>92.0</td>\n",
       "      <td>CCC</td>\n",
       "      <td>2014B</td>\n",
       "      <td>Exam</td>\n",
       "      <td>NaN</td>\n",
       "      <td>100.0</td>\n",
       "      <td>241</td>\n",
       "    </tr>\n",
       "  </tbody>\n",
       "</table>\n",
       "</div>"
      ],
      "text/plain": [
       "   id_assessment  id_student  date_submitted  is_banked  score code_module  \\\n",
       "0          24290      559706             234          0   78.0         CCC   \n",
       "1          24290      559770             230          0   54.0         CCC   \n",
       "2          24290      560114             230          0   64.0         CCC   \n",
       "3          24290      560311             234          0  100.0         CCC   \n",
       "4          24290      560494             230          0   92.0         CCC   \n",
       "\n",
       "  code_presentation assessment_type  date  weight  module_presentation_length  \n",
       "0             2014B            Exam   NaN   100.0                         241  \n",
       "1             2014B            Exam   NaN   100.0                         241  \n",
       "2             2014B            Exam   NaN   100.0                         241  \n",
       "3             2014B            Exam   NaN   100.0                         241  \n",
       "4             2014B            Exam   NaN   100.0                         241  "
      ]
     },
     "execution_count": 33,
     "metadata": {},
     "output_type": "execute_result"
    }
   ],
   "source": [
    "stud_as_as_courses = stud_asses_asses.query('assessment_type == \"Exam\" and score >= 40') \\\n",
    "                                     .merge(courses, how = 'inner', on = ['code_module', 'code_presentation']) \\\n",
    "                                     .copy()\n",
    "                                      \n",
    "\n",
    "stud_as_as_courses.head()"
   ]
  },
  {
   "cell_type": "markdown",
   "metadata": {},
   "source": [
    "Ниже убеждаемся, что везде, где у экзамена указан конечный срок, всего несколько человек не успели вовремя сдать экзамен. При этом, максимальная задержка - 10 дней, что совсем немного (по болезни, например). Поэтому всех их я буду учитывать как сдавших экзамен."
   ]
  },
  {
   "cell_type": "code",
   "execution_count": 34,
   "metadata": {},
   "outputs": [
    {
     "data": {
      "text/html": [
       "<div>\n",
       "<style scoped>\n",
       "    .dataframe tbody tr th:only-of-type {\n",
       "        vertical-align: middle;\n",
       "    }\n",
       "\n",
       "    .dataframe tbody tr th {\n",
       "        vertical-align: top;\n",
       "    }\n",
       "\n",
       "    .dataframe thead th {\n",
       "        text-align: right;\n",
       "    }\n",
       "</style>\n",
       "<table border=\"1\" class=\"dataframe\">\n",
       "  <thead>\n",
       "    <tr style=\"text-align: right;\">\n",
       "      <th></th>\n",
       "      <th>id_assessment</th>\n",
       "      <th>id_student</th>\n",
       "      <th>date_submitted</th>\n",
       "      <th>is_banked</th>\n",
       "      <th>score</th>\n",
       "      <th>code_module</th>\n",
       "      <th>code_presentation</th>\n",
       "      <th>assessment_type</th>\n",
       "      <th>date</th>\n",
       "      <th>weight</th>\n",
       "      <th>module_presentation_length</th>\n",
       "      <th>diff</th>\n",
       "    </tr>\n",
       "  </thead>\n",
       "  <tbody>\n",
       "    <tr>\n",
       "      <th>1933</th>\n",
       "      <td>25340</td>\n",
       "      <td>532491</td>\n",
       "      <td>241</td>\n",
       "      <td>0</td>\n",
       "      <td>49.0</td>\n",
       "      <td>DDD</td>\n",
       "      <td>2013B</td>\n",
       "      <td>Exam</td>\n",
       "      <td>240.0</td>\n",
       "      <td>100.0</td>\n",
       "      <td>240</td>\n",
       "      <td>-1.0</td>\n",
       "    </tr>\n",
       "    <tr>\n",
       "      <th>1958</th>\n",
       "      <td>25340</td>\n",
       "      <td>538611</td>\n",
       "      <td>241</td>\n",
       "      <td>0</td>\n",
       "      <td>51.0</td>\n",
       "      <td>DDD</td>\n",
       "      <td>2013B</td>\n",
       "      <td>Exam</td>\n",
       "      <td>240.0</td>\n",
       "      <td>100.0</td>\n",
       "      <td>240</td>\n",
       "      <td>-1.0</td>\n",
       "    </tr>\n",
       "    <tr>\n",
       "      <th>2002</th>\n",
       "      <td>25340</td>\n",
       "      <td>548535</td>\n",
       "      <td>241</td>\n",
       "      <td>0</td>\n",
       "      <td>60.0</td>\n",
       "      <td>DDD</td>\n",
       "      <td>2013B</td>\n",
       "      <td>Exam</td>\n",
       "      <td>240.0</td>\n",
       "      <td>100.0</td>\n",
       "      <td>240</td>\n",
       "      <td>-1.0</td>\n",
       "    </tr>\n",
       "    <tr>\n",
       "      <th>3121</th>\n",
       "      <td>25361</td>\n",
       "      <td>391924</td>\n",
       "      <td>251</td>\n",
       "      <td>0</td>\n",
       "      <td>69.0</td>\n",
       "      <td>DDD</td>\n",
       "      <td>2014B</td>\n",
       "      <td>Exam</td>\n",
       "      <td>241.0</td>\n",
       "      <td>100.0</td>\n",
       "      <td>241</td>\n",
       "      <td>-10.0</td>\n",
       "    </tr>\n",
       "    <tr>\n",
       "      <th>3444</th>\n",
       "      <td>25361</td>\n",
       "      <td>631388</td>\n",
       "      <td>242</td>\n",
       "      <td>0</td>\n",
       "      <td>78.0</td>\n",
       "      <td>DDD</td>\n",
       "      <td>2014B</td>\n",
       "      <td>Exam</td>\n",
       "      <td>241.0</td>\n",
       "      <td>100.0</td>\n",
       "      <td>241</td>\n",
       "      <td>-1.0</td>\n",
       "    </tr>\n",
       "    <tr>\n",
       "      <th>3475</th>\n",
       "      <td>25361</td>\n",
       "      <td>634383</td>\n",
       "      <td>242</td>\n",
       "      <td>0</td>\n",
       "      <td>96.0</td>\n",
       "      <td>DDD</td>\n",
       "      <td>2014B</td>\n",
       "      <td>Exam</td>\n",
       "      <td>241.0</td>\n",
       "      <td>100.0</td>\n",
       "      <td>241</td>\n",
       "      <td>-1.0</td>\n",
       "    </tr>\n",
       "  </tbody>\n",
       "</table>\n",
       "</div>"
      ],
      "text/plain": [
       "      id_assessment  id_student  date_submitted  is_banked  score code_module  \\\n",
       "1933          25340      532491             241          0   49.0         DDD   \n",
       "1958          25340      538611             241          0   51.0         DDD   \n",
       "2002          25340      548535             241          0   60.0         DDD   \n",
       "3121          25361      391924             251          0   69.0         DDD   \n",
       "3444          25361      631388             242          0   78.0         DDD   \n",
       "3475          25361      634383             242          0   96.0         DDD   \n",
       "\n",
       "     code_presentation assessment_type   date  weight  \\\n",
       "1933             2013B            Exam  240.0   100.0   \n",
       "1958             2013B            Exam  240.0   100.0   \n",
       "2002             2013B            Exam  240.0   100.0   \n",
       "3121             2014B            Exam  241.0   100.0   \n",
       "3444             2014B            Exam  241.0   100.0   \n",
       "3475             2014B            Exam  241.0   100.0   \n",
       "\n",
       "      module_presentation_length  diff  \n",
       "1933                         240  -1.0  \n",
       "1958                         240  -1.0  \n",
       "2002                         240  -1.0  \n",
       "3121                         241 -10.0  \n",
       "3444                         241  -1.0  \n",
       "3475                         241  -1.0  "
      ]
     },
     "execution_count": 34,
     "metadata": {},
     "output_type": "execute_result"
    }
   ],
   "source": [
    "stud_as_as_courses['diff'] = stud_as_as_courses['date'] - stud_as_as_courses['date_submitted']\n",
    "stud_as_as_courses.query('diff != \"NaN\" and diff < 0')"
   ]
  },
  {
   "cell_type": "markdown",
   "metadata": {},
   "source": [
    "узнаем, что в дате экзамена нет NaN только в предмете DDD (но не во всех семестрах)"
   ]
  },
  {
   "cell_type": "code",
   "execution_count": 35,
   "metadata": {},
   "outputs": [
    {
     "data": {
      "text/plain": [
       "array(['DDD'], dtype=object)"
      ]
     },
     "execution_count": 35,
     "metadata": {},
     "output_type": "execute_result"
    }
   ],
   "source": [
    "stud_as_as_courses.query('diff != \"NaN\"').code_module.unique()"
   ]
  },
  {
   "cell_type": "code",
   "execution_count": 36,
   "metadata": {},
   "outputs": [
    {
     "data": {
      "text/plain": [
       "array(['2014J'], dtype=object)"
      ]
     },
     "execution_count": 36,
     "metadata": {},
     "output_type": "execute_result"
    }
   ],
   "source": [
    "stud_as_as_courses.query('diff == \"NaN\" and code_module == \"DDD\"').code_presentation.unique()"
   ]
  },
  {
   "cell_type": "markdown",
   "metadata": {},
   "source": [
    "таким образом, в случае с DDD у нас не определена конечная дата сдачи теста только в семестре 2014J. При этом, если мы посмотрим на таблицу courses, то увидим, что предмет DDD семестр 2014J по длительности очень похож с 2013J, а 2013B с 2014B. Таким образом date (конечная дата сдачи теста/экзамена для DDD 2014J я заполню date из DDD 2013J.\n",
    "Что касается CCC, т.к мне не на что ориентироваться, я буду смотреть на разницу между длинной курса и датой сдачи экзамена студентом."
   ]
  },
  {
   "cell_type": "code",
   "execution_count": 37,
   "metadata": {},
   "outputs": [],
   "source": [
    "# создаем колонку где среди тех, у кого предмет CCC из длины курса вычитаем (тоже у ССС) количество дней прошедших от начала \n",
    "#  курса до фактического срока сдачи экзамена\n",
    "stud_as_as_courses['diff_for_ccc'] = stud_as_as_courses.query('code_module == \"CCC\"').module_presentation_length - stud_as_as_courses.query('code_module == \"CCC\"').date_submitted"
   ]
  },
  {
   "cell_type": "markdown",
   "metadata": {},
   "source": [
    "--16 и - 25 уже кажется достаточно много"
   ]
  },
  {
   "cell_type": "code",
   "execution_count": 38,
   "metadata": {},
   "outputs": [
    {
     "data": {
      "text/html": [
       "<div>\n",
       "<style scoped>\n",
       "    .dataframe tbody tr th:only-of-type {\n",
       "        vertical-align: middle;\n",
       "    }\n",
       "\n",
       "    .dataframe tbody tr th {\n",
       "        vertical-align: top;\n",
       "    }\n",
       "\n",
       "    .dataframe thead th {\n",
       "        text-align: right;\n",
       "    }\n",
       "</style>\n",
       "<table border=\"1\" class=\"dataframe\">\n",
       "  <thead>\n",
       "    <tr style=\"text-align: right;\">\n",
       "      <th></th>\n",
       "      <th>id_assessment</th>\n",
       "      <th>id_student</th>\n",
       "      <th>date_submitted</th>\n",
       "      <th>is_banked</th>\n",
       "      <th>score</th>\n",
       "      <th>code_module</th>\n",
       "      <th>code_presentation</th>\n",
       "      <th>assessment_type</th>\n",
       "      <th>date</th>\n",
       "      <th>weight</th>\n",
       "      <th>module_presentation_length</th>\n",
       "      <th>diff</th>\n",
       "      <th>diff_for_ccc</th>\n",
       "    </tr>\n",
       "  </thead>\n",
       "  <tbody>\n",
       "    <tr>\n",
       "      <th>440</th>\n",
       "      <td>24290</td>\n",
       "      <td>169380</td>\n",
       "      <td>242</td>\n",
       "      <td>0</td>\n",
       "      <td>78.0</td>\n",
       "      <td>CCC</td>\n",
       "      <td>2014B</td>\n",
       "      <td>Exam</td>\n",
       "      <td>NaN</td>\n",
       "      <td>100.0</td>\n",
       "      <td>241</td>\n",
       "      <td>NaN</td>\n",
       "      <td>-1.0</td>\n",
       "    </tr>\n",
       "    <tr>\n",
       "      <th>655</th>\n",
       "      <td>24290</td>\n",
       "      <td>555008</td>\n",
       "      <td>266</td>\n",
       "      <td>0</td>\n",
       "      <td>56.0</td>\n",
       "      <td>CCC</td>\n",
       "      <td>2014B</td>\n",
       "      <td>Exam</td>\n",
       "      <td>NaN</td>\n",
       "      <td>100.0</td>\n",
       "      <td>241</td>\n",
       "      <td>NaN</td>\n",
       "      <td>-25.0</td>\n",
       "    </tr>\n",
       "    <tr>\n",
       "      <th>1672</th>\n",
       "      <td>24299</td>\n",
       "      <td>555498</td>\n",
       "      <td>285</td>\n",
       "      <td>0</td>\n",
       "      <td>58.0</td>\n",
       "      <td>CCC</td>\n",
       "      <td>2014J</td>\n",
       "      <td>Exam</td>\n",
       "      <td>NaN</td>\n",
       "      <td>100.0</td>\n",
       "      <td>269</td>\n",
       "      <td>NaN</td>\n",
       "      <td>-16.0</td>\n",
       "    </tr>\n",
       "  </tbody>\n",
       "</table>\n",
       "</div>"
      ],
      "text/plain": [
       "      id_assessment  id_student  date_submitted  is_banked  score code_module  \\\n",
       "440           24290      169380             242          0   78.0         CCC   \n",
       "655           24290      555008             266          0   56.0         CCC   \n",
       "1672          24299      555498             285          0   58.0         CCC   \n",
       "\n",
       "     code_presentation assessment_type  date  weight  \\\n",
       "440              2014B            Exam   NaN   100.0   \n",
       "655              2014B            Exam   NaN   100.0   \n",
       "1672             2014J            Exam   NaN   100.0   \n",
       "\n",
       "      module_presentation_length  diff  diff_for_ccc  \n",
       "440                          241   NaN          -1.0  \n",
       "655                          241   NaN         -25.0  \n",
       "1672                         269   NaN         -16.0  "
      ]
     },
     "execution_count": 38,
     "metadata": {},
     "output_type": "execute_result"
    }
   ],
   "source": [
    "stud_as_as_courses.query('diff_for_ccc < 0')"
   ]
  },
  {
   "cell_type": "code",
   "execution_count": 39,
   "metadata": {},
   "outputs": [],
   "source": [
    "stud_as_as_courses['new_diff'] = stud_as_as_courses['diff'] # колонка diff почему-то не работает как нужно"
   ]
  },
  {
   "cell_type": "code",
   "execution_count": 40,
   "metadata": {},
   "outputs": [],
   "source": [
    "# т.к DDD 2014J и DDD 2013J по продолжительности курса похожи, конечную дату сдачи курса позаимствую (261)\n",
    "for_DDD_2014J = math.ceil(stud_as_as_courses.query('new_diff != \"NaN\" and code_module == \"DDD\" and code_presentation == \"2013J\"') \\\n",
    "                                             .date.mean())\n",
    "\n",
    "# создаю df с датой конечного срока сдачи экзамена для DDD 2014J (среди DDD только они NaN в date)\n",
    "stud_as_as_courses_1 = stud_as_as_courses.query('code_module == \"DDD\" and new_diff == \"NaN\"').date.fillna(for_DDD_2014J) \\\n",
    "                                         .reset_index()\n",
    "\n",
    "# подготавливаю основную таблицу для джойна с таблицей выше\n",
    "stud_as_as_courses = stud_as_as_courses.reset_index()\n",
    "\n",
    "# джойню\n",
    "date_DDD_2014J = stud_as_as_courses.merge(stud_as_as_courses_1, how = 'inner', on = 'index').copy()\n",
    "\n",
    "# создаю колонку в новой таблицу с разницей между конечной датой сдачи экзамена и фактической (для DDD 2014J)\n",
    "date_DDD_2014J['new_diff'] = date_DDD_2014J.date_y - date_DDD_2014J.date_submitted\n",
    "\n",
    "# подготавливаю данные для дальнейшего объединения\n",
    "stud_as_as_courses_1 = date_DDD_2014J[['index', 'new_diff']]\n",
    "stud_as_as_courses_2 = stud_as_as_courses.query('new_diff != \"NaN\"').reset_index()[['index', 'new_diff']]\n",
    "stud_as_as_courses_3 = stud_as_as_courses.query('new_diff == \"NaN\" and code_module == \"CCC\"') \\\n",
    "                                         .new_diff.fillna(stud_as_as_courses.diff_for_ccc).reset_index()\n",
    "\n",
    "# Объединяю\n",
    "for_merge = pd.concat([stud_as_as_courses_3, stud_as_as_courses_1, stud_as_as_courses_2])\n",
    "\n",
    "# соединяю с основной таблицей\n",
    "for_1_2 = for_merge.merge(stud_as_as_courses, how = 'inner', on = 'index') \\\n",
    "                   .drop(columns= ['index', 'diff', 'diff_for_ccc', 'new_diff_y']) \\\n",
    "                   .rename(columns ={'new_diff_x' : 'diff'}).copy()\n",
    "\n",
    "for_1_2['diff_new'] = for_1_2['diff'] # почему-то с колонкой diff выдавало ошибку при каких-либо действиях с колонкой\n",
    "\n",
    "# избавляюсь от лишней колонки\n",
    "for_1_2 = for_1_2.drop(columns='diff')"
   ]
  },
  {
   "cell_type": "code",
   "execution_count": 41,
   "metadata": {},
   "outputs": [
    {
     "data": {
      "text/html": [
       "<div>\n",
       "<style scoped>\n",
       "    .dataframe tbody tr th:only-of-type {\n",
       "        vertical-align: middle;\n",
       "    }\n",
       "\n",
       "    .dataframe tbody tr th {\n",
       "        vertical-align: top;\n",
       "    }\n",
       "\n",
       "    .dataframe thead th {\n",
       "        text-align: right;\n",
       "    }\n",
       "</style>\n",
       "<table border=\"1\" class=\"dataframe\">\n",
       "  <thead>\n",
       "    <tr style=\"text-align: right;\">\n",
       "      <th></th>\n",
       "      <th>id_assessment</th>\n",
       "      <th>id_student</th>\n",
       "      <th>date_submitted</th>\n",
       "      <th>is_banked</th>\n",
       "      <th>score</th>\n",
       "      <th>code_module</th>\n",
       "      <th>code_presentation</th>\n",
       "      <th>assessment_type</th>\n",
       "      <th>date</th>\n",
       "      <th>weight</th>\n",
       "      <th>module_presentation_length</th>\n",
       "      <th>diff_new</th>\n",
       "    </tr>\n",
       "  </thead>\n",
       "  <tbody>\n",
       "    <tr>\n",
       "      <th>440</th>\n",
       "      <td>24290</td>\n",
       "      <td>169380</td>\n",
       "      <td>242</td>\n",
       "      <td>0</td>\n",
       "      <td>78.0</td>\n",
       "      <td>CCC</td>\n",
       "      <td>2014B</td>\n",
       "      <td>Exam</td>\n",
       "      <td>NaN</td>\n",
       "      <td>100.0</td>\n",
       "      <td>241</td>\n",
       "      <td>-1.0</td>\n",
       "    </tr>\n",
       "    <tr>\n",
       "      <th>655</th>\n",
       "      <td>24290</td>\n",
       "      <td>555008</td>\n",
       "      <td>266</td>\n",
       "      <td>0</td>\n",
       "      <td>56.0</td>\n",
       "      <td>CCC</td>\n",
       "      <td>2014B</td>\n",
       "      <td>Exam</td>\n",
       "      <td>NaN</td>\n",
       "      <td>100.0</td>\n",
       "      <td>241</td>\n",
       "      <td>-25.0</td>\n",
       "    </tr>\n",
       "    <tr>\n",
       "      <th>1672</th>\n",
       "      <td>24299</td>\n",
       "      <td>555498</td>\n",
       "      <td>285</td>\n",
       "      <td>0</td>\n",
       "      <td>58.0</td>\n",
       "      <td>CCC</td>\n",
       "      <td>2014J</td>\n",
       "      <td>Exam</td>\n",
       "      <td>NaN</td>\n",
       "      <td>100.0</td>\n",
       "      <td>269</td>\n",
       "      <td>-16.0</td>\n",
       "    </tr>\n",
       "  </tbody>\n",
       "</table>\n",
       "</div>"
      ],
      "text/plain": [
       "      id_assessment  id_student  date_submitted  is_banked  score code_module  \\\n",
       "440           24290      169380             242          0   78.0         CCC   \n",
       "655           24290      555008             266          0   56.0         CCC   \n",
       "1672          24299      555498             285          0   58.0         CCC   \n",
       "\n",
       "     code_presentation assessment_type  date  weight  \\\n",
       "440              2014B            Exam   NaN   100.0   \n",
       "655              2014B            Exam   NaN   100.0   \n",
       "1672             2014J            Exam   NaN   100.0   \n",
       "\n",
       "      module_presentation_length  diff_new  \n",
       "440                          241      -1.0  \n",
       "655                          241     -25.0  \n",
       "1672                         269     -16.0  "
      ]
     },
     "execution_count": 41,
     "metadata": {},
     "output_type": "execute_result"
    }
   ],
   "source": [
    "for_1_2.query('code_module == \"CCC\" and diff_new < 0')"
   ]
  },
  {
   "cell_type": "markdown",
   "metadata": {},
   "source": [
    "В случае предмета CCC, считаю обоснованным сравнивать все значения, в том числе тех, кто заранее сдал работу, поскольку это говорит о том, что ее можно было выполнить сильно заранее. Делить на семестры не вижу смысла, т.к и в том и в другоv семестре было по одному серьезному опозданию. Индекс 655 и 1672 удаляются из таблицы"
   ]
  },
  {
   "cell_type": "code",
   "execution_count": 42,
   "metadata": {},
   "outputs": [
    {
     "name": "stderr",
     "output_type": "stream",
     "text": [
      "/opt/tljh/user/lib/python3.7/site-packages/seaborn/_decorators.py:43: FutureWarning: Pass the following variable as a keyword arg: x. From version 0.12, the only valid positional argument will be `data`, and passing other arguments without an explicit keyword will result in an error or misinterpretation.\n",
      "  FutureWarning\n"
     ]
    },
    {
     "data": {
      "text/plain": [
       "<matplotlib.axes._subplots.AxesSubplot at 0x7fc0c8a97390>"
      ]
     },
     "execution_count": 42,
     "metadata": {},
     "output_type": "execute_result"
    },
    {
     "data": {
      "image/png": "[encoded data removed]",
      "text/plain": [
       "<Figure size 1440x504 with 1 Axes>"
      ]
     },
     "metadata": {},
     "output_type": "display_data"
    }
   ],
   "source": [
    "sns.boxplot(for_1_2.query('code_module == \"CCC\"')['diff_new'])"
   ]
  },
  {
   "cell_type": "markdown",
   "metadata": {},
   "source": [
    "Т.к для предмета DDD я определил две разные группы (2013J, 2014J) и (2013B, 2014J), то и наблюдения я буду совершать отдельно. Индекс 1965 удаляем из финальной таблицы"
   ]
  },
  {
   "cell_type": "code",
   "execution_count": 43,
   "metadata": {},
   "outputs": [
    {
     "data": {
      "text/html": [
       "<div>\n",
       "<style scoped>\n",
       "    .dataframe tbody tr th:only-of-type {\n",
       "        vertical-align: middle;\n",
       "    }\n",
       "\n",
       "    .dataframe tbody tr th {\n",
       "        vertical-align: top;\n",
       "    }\n",
       "\n",
       "    .dataframe thead th {\n",
       "        text-align: right;\n",
       "    }\n",
       "</style>\n",
       "<table border=\"1\" class=\"dataframe\">\n",
       "  <thead>\n",
       "    <tr style=\"text-align: right;\">\n",
       "      <th></th>\n",
       "      <th>id_assessment</th>\n",
       "      <th>id_student</th>\n",
       "      <th>date_submitted</th>\n",
       "      <th>is_banked</th>\n",
       "      <th>score</th>\n",
       "      <th>code_module</th>\n",
       "      <th>code_presentation</th>\n",
       "      <th>assessment_type</th>\n",
       "      <th>date</th>\n",
       "      <th>weight</th>\n",
       "      <th>module_presentation_length</th>\n",
       "      <th>diff_new</th>\n",
       "    </tr>\n",
       "  </thead>\n",
       "  <tbody>\n",
       "    <tr>\n",
       "      <th>1965</th>\n",
       "      <td>25368</td>\n",
       "      <td>2341830</td>\n",
       "      <td>279</td>\n",
       "      <td>0</td>\n",
       "      <td>49.0</td>\n",
       "      <td>DDD</td>\n",
       "      <td>2014J</td>\n",
       "      <td>Exam</td>\n",
       "      <td>NaN</td>\n",
       "      <td>100.0</td>\n",
       "      <td>262</td>\n",
       "      <td>-18.0</td>\n",
       "    </tr>\n",
       "  </tbody>\n",
       "</table>\n",
       "</div>"
      ],
      "text/plain": [
       "      id_assessment  id_student  date_submitted  is_banked  score code_module  \\\n",
       "1965          25368     2341830             279          0   49.0         DDD   \n",
       "\n",
       "     code_presentation assessment_type  date  weight  \\\n",
       "1965             2014J            Exam   NaN   100.0   \n",
       "\n",
       "      module_presentation_length  diff_new  \n",
       "1965                         262     -18.0  "
      ]
     },
     "execution_count": 43,
     "metadata": {},
     "output_type": "execute_result"
    }
   ],
   "source": [
    "for_1_2.query('code_module == \"DDD\" and (code_presentation == \"2014J\" or code_presentation == \"2013J\")  and diff_new < 0')"
   ]
  },
  {
   "cell_type": "code",
   "execution_count": 44,
   "metadata": {},
   "outputs": [
    {
     "name": "stderr",
     "output_type": "stream",
     "text": [
      "/opt/tljh/user/lib/python3.7/site-packages/seaborn/_decorators.py:43: FutureWarning: Pass the following variable as a keyword arg: x. From version 0.12, the only valid positional argument will be `data`, and passing other arguments without an explicit keyword will result in an error or misinterpretation.\n",
      "  FutureWarning\n"
     ]
    },
    {
     "data": {
      "text/plain": [
       "<matplotlib.axes._subplots.AxesSubplot at 0x7fc0c8b0de48>"
      ]
     },
     "execution_count": 44,
     "metadata": {},
     "output_type": "execute_result"
    },
    {
     "data": {
      "image/png": "[encoded data removed]",
      "text/plain": [
       "<Figure size 1440x504 with 1 Axes>"
      ]
     },
     "metadata": {},
     "output_type": "display_data"
    }
   ],
   "source": [
    "# не обращаю внимание, т.к важно только то, что ниже 0, а это всего одно наблюдение\n",
    "sns.boxplot(for_1_2.query('code_module == \"DDD\" and (code_presentation == \"2014J\" or code_presentation == \"2013J\")')['diff_new'])"
   ]
  },
  {
   "cell_type": "markdown",
   "metadata": {},
   "source": [
    "В других семестрах предмета DDD никого удалять не буду, потому что 10 дней хоть и значительно большая задержка, чем один день, но 10 дней легче объяснить чем, 16 или 18. "
   ]
  },
  {
   "cell_type": "code",
   "execution_count": 45,
   "metadata": {},
   "outputs": [
    {
     "data": {
      "text/html": [
       "<div>\n",
       "<style scoped>\n",
       "    .dataframe tbody tr th:only-of-type {\n",
       "        vertical-align: middle;\n",
       "    }\n",
       "\n",
       "    .dataframe tbody tr th {\n",
       "        vertical-align: top;\n",
       "    }\n",
       "\n",
       "    .dataframe thead th {\n",
       "        text-align: right;\n",
       "    }\n",
       "</style>\n",
       "<table border=\"1\" class=\"dataframe\">\n",
       "  <thead>\n",
       "    <tr style=\"text-align: right;\">\n",
       "      <th></th>\n",
       "      <th>id_assessment</th>\n",
       "      <th>id_student</th>\n",
       "      <th>date_submitted</th>\n",
       "      <th>is_banked</th>\n",
       "      <th>score</th>\n",
       "      <th>code_module</th>\n",
       "      <th>code_presentation</th>\n",
       "      <th>assessment_type</th>\n",
       "      <th>date</th>\n",
       "      <th>weight</th>\n",
       "      <th>module_presentation_length</th>\n",
       "      <th>diff_new</th>\n",
       "    </tr>\n",
       "  </thead>\n",
       "  <tbody>\n",
       "    <tr>\n",
       "      <th>2775</th>\n",
       "      <td>25340</td>\n",
       "      <td>532491</td>\n",
       "      <td>241</td>\n",
       "      <td>0</td>\n",
       "      <td>49.0</td>\n",
       "      <td>DDD</td>\n",
       "      <td>2013B</td>\n",
       "      <td>Exam</td>\n",
       "      <td>240.0</td>\n",
       "      <td>100.0</td>\n",
       "      <td>240</td>\n",
       "      <td>-1.0</td>\n",
       "    </tr>\n",
       "    <tr>\n",
       "      <th>2800</th>\n",
       "      <td>25340</td>\n",
       "      <td>538611</td>\n",
       "      <td>241</td>\n",
       "      <td>0</td>\n",
       "      <td>51.0</td>\n",
       "      <td>DDD</td>\n",
       "      <td>2013B</td>\n",
       "      <td>Exam</td>\n",
       "      <td>240.0</td>\n",
       "      <td>100.0</td>\n",
       "      <td>240</td>\n",
       "      <td>-1.0</td>\n",
       "    </tr>\n",
       "    <tr>\n",
       "      <th>2844</th>\n",
       "      <td>25340</td>\n",
       "      <td>548535</td>\n",
       "      <td>241</td>\n",
       "      <td>0</td>\n",
       "      <td>60.0</td>\n",
       "      <td>DDD</td>\n",
       "      <td>2013B</td>\n",
       "      <td>Exam</td>\n",
       "      <td>240.0</td>\n",
       "      <td>100.0</td>\n",
       "      <td>240</td>\n",
       "      <td>-1.0</td>\n",
       "    </tr>\n",
       "    <tr>\n",
       "      <th>3963</th>\n",
       "      <td>25361</td>\n",
       "      <td>391924</td>\n",
       "      <td>251</td>\n",
       "      <td>0</td>\n",
       "      <td>69.0</td>\n",
       "      <td>DDD</td>\n",
       "      <td>2014B</td>\n",
       "      <td>Exam</td>\n",
       "      <td>241.0</td>\n",
       "      <td>100.0</td>\n",
       "      <td>241</td>\n",
       "      <td>-10.0</td>\n",
       "    </tr>\n",
       "    <tr>\n",
       "      <th>4286</th>\n",
       "      <td>25361</td>\n",
       "      <td>631388</td>\n",
       "      <td>242</td>\n",
       "      <td>0</td>\n",
       "      <td>78.0</td>\n",
       "      <td>DDD</td>\n",
       "      <td>2014B</td>\n",
       "      <td>Exam</td>\n",
       "      <td>241.0</td>\n",
       "      <td>100.0</td>\n",
       "      <td>241</td>\n",
       "      <td>-1.0</td>\n",
       "    </tr>\n",
       "    <tr>\n",
       "      <th>4317</th>\n",
       "      <td>25361</td>\n",
       "      <td>634383</td>\n",
       "      <td>242</td>\n",
       "      <td>0</td>\n",
       "      <td>96.0</td>\n",
       "      <td>DDD</td>\n",
       "      <td>2014B</td>\n",
       "      <td>Exam</td>\n",
       "      <td>241.0</td>\n",
       "      <td>100.0</td>\n",
       "      <td>241</td>\n",
       "      <td>-1.0</td>\n",
       "    </tr>\n",
       "  </tbody>\n",
       "</table>\n",
       "</div>"
      ],
      "text/plain": [
       "      id_assessment  id_student  date_submitted  is_banked  score code_module  \\\n",
       "2775          25340      532491             241          0   49.0         DDD   \n",
       "2800          25340      538611             241          0   51.0         DDD   \n",
       "2844          25340      548535             241          0   60.0         DDD   \n",
       "3963          25361      391924             251          0   69.0         DDD   \n",
       "4286          25361      631388             242          0   78.0         DDD   \n",
       "4317          25361      634383             242          0   96.0         DDD   \n",
       "\n",
       "     code_presentation assessment_type   date  weight  \\\n",
       "2775             2013B            Exam  240.0   100.0   \n",
       "2800             2013B            Exam  240.0   100.0   \n",
       "2844             2013B            Exam  240.0   100.0   \n",
       "3963             2014B            Exam  241.0   100.0   \n",
       "4286             2014B            Exam  241.0   100.0   \n",
       "4317             2014B            Exam  241.0   100.0   \n",
       "\n",
       "      module_presentation_length  diff_new  \n",
       "2775                         240      -1.0  \n",
       "2800                         240      -1.0  \n",
       "2844                         240      -1.0  \n",
       "3963                         241     -10.0  \n",
       "4286                         241      -1.0  \n",
       "4317                         241      -1.0  "
      ]
     },
     "execution_count": 45,
     "metadata": {},
     "output_type": "execute_result"
    }
   ],
   "source": [
    "for_1_2.query('code_module == \"DDD\" and (code_presentation == \"2014B\" or code_presentation == \"2013B\")  and diff_new < 0')"
   ]
  },
  {
   "cell_type": "code",
   "execution_count": 46,
   "metadata": {},
   "outputs": [
    {
     "name": "stderr",
     "output_type": "stream",
     "text": [
      "/opt/tljh/user/lib/python3.7/site-packages/seaborn/_decorators.py:43: FutureWarning: Pass the following variable as a keyword arg: x. From version 0.12, the only valid positional argument will be `data`, and passing other arguments without an explicit keyword will result in an error or misinterpretation.\n",
      "  FutureWarning\n"
     ]
    },
    {
     "data": {
      "text/plain": [
       "<matplotlib.axes._subplots.AxesSubplot at 0x7fc0c89c2d30>"
      ]
     },
     "execution_count": 46,
     "metadata": {},
     "output_type": "execute_result"
    },
    {
     "data": {
      "image/png": "[encoded data removed]",
      "text/plain": [
       "<Figure size 1440x504 with 1 Axes>"
      ]
     },
     "metadata": {},
     "output_type": "display_data"
    }
   ],
   "source": [
    "sns.boxplot(for_1_2.query('code_module == \"DDD\" and (code_presentation == \"2014B\" or code_presentation == \"2013B\")')['diff_new'])"
   ]
  },
  {
   "cell_type": "code",
   "execution_count": 47,
   "metadata": {},
   "outputs": [],
   "source": [
    "a = [655, 1672, 1965]\n",
    "for_1_2 = for_1_2.drop(index = a)"
   ]
  },
  {
   "cell_type": "code",
   "execution_count": 48,
   "metadata": {},
   "outputs": [
    {
     "data": {
      "text/plain": [
       "3799"
      ]
     },
     "execution_count": 48,
     "metadata": {},
     "output_type": "execute_result"
    }
   ],
   "source": [
    "len(for_1_2.groupby('id_student', as_index = False) \\\n",
    "       .agg(count_exam = ('assessment_type', 'count')) \\\n",
    "       .query('count_exam == 1'))"
   ]
  },
  {
   "cell_type": "markdown",
   "metadata": {},
   "source": [
    "## Ответ на Задани 1.2:\n",
    "#### Т.к по 3/4 курсов по предмету DDD были известны как дата сдачи экзамена так и максимально возможная дата сдачи экзамена, для оставшегося 1 курса по предмету DDD (2014J), у которого не была известна конечная дата сдачи экзамена, я сделал ее такой же, какая была у курса DDD семестр 2013 J, т.к у них почти одинаковая длина курса. Таким образом для всех по предмету DDD я посчитал разницу между конечной датой сдачи экзамена и фактической датой сдачи. Для CCC я посчитал разницу между длиной курса и числом дней прошедшем от начала курса до фактической сдачи. Таким образом, менее 10 человек опоздали, из них только трое опоздали серьезно. Судя по разницу (3802 - 3799 = 3) моя предостароженность насчет того, что среди тех, кто сдавал 2 курса мог быть тот, кого мы не засчитаем за сдавшеего за счет большой просрочки, в данном случае была излишне. Можно было изучить разницу между сроком курса и конечным сроком сдачи экзамена, но я выбрал иные критерии. Ответ: 799"
   ]
  },
  {
   "cell_type": "code",
   "execution_count": null,
   "metadata": {},
   "outputs": [],
   "source": []
  },
  {
   "cell_type": "markdown",
   "metadata": {},
   "source": [
    "## 2. Выяви самый сложный и самый простой экзамен: найди курсы и экзамены в рамках курса, которые обладают самой низкой и самой высокой завершаемостью*\n",
    "*завершаемость = кол-во успешных экзаменов / кол-во всех попыток сдать экзамен  \n",
    "При подсчете успешных сдач не буду учитыват просрочку в сдаче (как выяснили выше, по выбранному критерию, разница в 3 экзамена).  \n",
    "Ранее выяснили, что никто не пытался сдать экзамен по одному и тому же курсу дважды"
   ]
  },
  {
   "cell_type": "code",
   "execution_count": 49,
   "metadata": {},
   "outputs": [
    {
     "data": {
      "text/html": [
       "<div>\n",
       "<style scoped>\n",
       "    .dataframe tbody tr th:only-of-type {\n",
       "        vertical-align: middle;\n",
       "    }\n",
       "\n",
       "    .dataframe tbody tr th {\n",
       "        vertical-align: top;\n",
       "    }\n",
       "\n",
       "    .dataframe thead th {\n",
       "        text-align: right;\n",
       "    }\n",
       "</style>\n",
       "<table border=\"1\" class=\"dataframe\">\n",
       "  <thead>\n",
       "    <tr style=\"text-align: right;\">\n",
       "      <th></th>\n",
       "      <th>code_module</th>\n",
       "      <th>code_presentation</th>\n",
       "      <th>how_easy_course</th>\n",
       "    </tr>\n",
       "  </thead>\n",
       "  <tbody>\n",
       "    <tr>\n",
       "      <th>most_difficult_exam</th>\n",
       "      <td>DDD</td>\n",
       "      <td>2013B</td>\n",
       "      <td>0.837209</td>\n",
       "    </tr>\n",
       "    <tr>\n",
       "      <th>most_easy_exam</th>\n",
       "      <td>DDD</td>\n",
       "      <td>2014B</td>\n",
       "      <td>0.925573</td>\n",
       "    </tr>\n",
       "  </tbody>\n",
       "</table>\n",
       "</div>"
      ],
      "text/plain": [
       "                    code_module code_presentation  how_easy_course\n",
       "most_difficult_exam         DDD             2013B         0.837209\n",
       "most_easy_exam              DDD             2014B         0.925573"
      ]
     },
     "execution_count": 49,
     "metadata": {},
     "output_type": "execute_result"
    }
   ],
   "source": [
    "difficult_exam = stud_asses_asses.query('assessment_type == \"Exam\" and score >= 40') \\\n",
    "                .groupby(['code_module', 'code_presentation'], as_index = False) \\\n",
    "                .agg(count_success =('assessment_type', 'count')) \\\n",
    ".merge(stud_asses_asses.query('assessment_type == \"Exam\"') \\\n",
    "                .groupby(['code_module', 'code_presentation'], as_index = False) \\\n",
    "                .agg(count_try =('assessment_type', 'count')), how = 'inner', on = ['code_module', 'code_presentation'])\n",
    "\n",
    "difficult_exam['how_easy_course'] =  difficult_exam['count_success'] / difficult_exam['count_try']\n",
    "\n",
    "pd.concat([difficult_exam.sort_values('how_easy_course').head(1)[['code_module', 'code_presentation', 'how_easy_course']],\n",
    "           difficult_exam.sort_values('how_easy_course').tail(1)[['code_module', 'code_presentation', 'how_easy_course']]]) \\\n",
    "           .set_index([pd.Index(['most_difficult_exam', 'most_easy_exam'])])"
   ]
  },
  {
   "cell_type": "markdown",
   "metadata": {},
   "source": [
    "## Ответ на 2-ое Задание:\n",
    "\n",
    "#### Курс с наибольшей завершаемостью -  DDD 2014B - 92,56%  \n",
    "#### Курс с наименьшей завершаемостью -  DDD 2013B - 83,72%"
   ]
  },
  {
   "cell_type": "code",
   "execution_count": null,
   "metadata": {},
   "outputs": [],
   "source": []
  },
  {
   "cell_type": "markdown",
   "metadata": {},
   "source": [
    "## 3. По каждому предмету определи средний срок сдачи экзаменов (под сдачей понимаем последнее успешное прохождение экзамена студентом)."
   ]
  },
  {
   "cell_type": "markdown",
   "metadata": {},
   "source": [
    "Т.к ранее выяснили, что ни один из успешно сдавших экзамен не сдавал его второйр раз, на этом можно не останавливаться. Также у нас нет даты \"открытия возможности сдать экзамен\", поэтому мы будем считать от даты начала курса."
   ]
  },
  {
   "cell_type": "code",
   "execution_count": 50,
   "metadata": {},
   "outputs": [
    {
     "data": {
      "text/html": [
       "<div>\n",
       "<style scoped>\n",
       "    .dataframe tbody tr th:only-of-type {\n",
       "        vertical-align: middle;\n",
       "    }\n",
       "\n",
       "    .dataframe tbody tr th {\n",
       "        vertical-align: top;\n",
       "    }\n",
       "\n",
       "    .dataframe thead th {\n",
       "        text-align: right;\n",
       "    }\n",
       "</style>\n",
       "<table border=\"1\" class=\"dataframe\">\n",
       "  <thead>\n",
       "    <tr style=\"text-align: right;\">\n",
       "      <th></th>\n",
       "      <th>mean_date_submitted</th>\n",
       "    </tr>\n",
       "  </thead>\n",
       "  <tbody>\n",
       "    <tr>\n",
       "      <th>CCC</th>\n",
       "      <td>239.0</td>\n",
       "    </tr>\n",
       "    <tr>\n",
       "      <th>DDD</th>\n",
       "      <td>238.0</td>\n",
       "    </tr>\n",
       "  </tbody>\n",
       "</table>\n",
       "</div>"
      ],
      "text/plain": [
       "     mean_date_submitted\n",
       "CCC                239.0\n",
       "DDD                238.0"
      ]
     },
     "execution_count": 50,
     "metadata": {},
     "output_type": "execute_result"
    }
   ],
   "source": [
    "stud_asses_asses.query('assessment_type == \"Exam\" and score >= 40') \\\n",
    "                .groupby('code_module', as_index = False) \\\n",
    "                .agg(mean_date_submitted = ('date_submitted', 'mean')) \\\n",
    "                .mean_date_submitted.round() \\\n",
    "                .reset_index() \\\n",
    "                .set_index([pd.Index(['CCC', 'DDD'])]) \\\n",
    "                .drop(columns = 'index')"
   ]
  },
  {
   "cell_type": "markdown",
   "metadata": {},
   "source": [
    "## Ответ на 3-ье Задание:\n",
    "\n",
    "Если считать, что дата возможного начала сдачи экзамена открывается с начала курса, то, округлив до целого, по предмету CCC экзамен в среднем сдается за 239 дней, по предмету DDD - 238 дней.   \n",
    "В данной задаче мы не учитывали данные, полученные в задании 1.2 (т.е длительная просрочка сдачи экзамена не явлалсь причиной не учитывать данный экзамен как успешно сданный.)."
   ]
  },
  {
   "cell_type": "code",
   "execution_count": null,
   "metadata": {},
   "outputs": [],
   "source": []
  },
  {
   "cell_type": "markdown",
   "metadata": {},
   "source": [
    "## 4. Выяви самые популярные курсы (ТОП-3) по количеству регистраций на них. А также курсы с самым большим оттоком (ТОП-3)"
   ]
  },
  {
   "cell_type": "code",
   "execution_count": 51,
   "metadata": {},
   "outputs": [
    {
     "data": {
      "text/plain": [
       "code_module                0\n",
       "code_presentation          0\n",
       "id_student                 0\n",
       "date_registration         45\n",
       "date_unregistration    22521\n",
       "dtype: int64"
      ]
     },
     "execution_count": 51,
     "metadata": {},
     "output_type": "execute_result"
    }
   ],
   "source": [
    "studentRegistration.isna().sum()"
   ]
  },
  {
   "cell_type": "markdown",
   "metadata": {},
   "source": [
    "Рассмотрим, нужно ли исключать те строки, где date_registration = 'NaN'.\n",
    "Вывод: исключать эти строки не нужно, т.к судя по всему некоторые  из них (6/45) закончили курс, остальные же отменили регистрацию, что никак не отменяет того факта, что они были зарегистрированы"
   ]
  },
  {
   "cell_type": "code",
   "execution_count": 52,
   "metadata": {},
   "outputs": [
    {
     "data": {
      "text/html": [
       "<div>\n",
       "<style scoped>\n",
       "    .dataframe tbody tr th:only-of-type {\n",
       "        vertical-align: middle;\n",
       "    }\n",
       "\n",
       "    .dataframe tbody tr th {\n",
       "        vertical-align: top;\n",
       "    }\n",
       "\n",
       "    .dataframe thead th {\n",
       "        text-align: right;\n",
       "    }\n",
       "</style>\n",
       "<table border=\"1\" class=\"dataframe\">\n",
       "  <thead>\n",
       "    <tr style=\"text-align: right;\">\n",
       "      <th></th>\n",
       "      <th>code_module</th>\n",
       "      <th>code_presentation</th>\n",
       "      <th>id_student</th>\n",
       "      <th>date_registration</th>\n",
       "      <th>date_unregistration</th>\n",
       "    </tr>\n",
       "  </thead>\n",
       "  <tbody>\n",
       "    <tr>\n",
       "      <th>2344</th>\n",
       "      <td>BBB</td>\n",
       "      <td>2013B</td>\n",
       "      <td>630346</td>\n",
       "      <td>NaN</td>\n",
       "      <td>NaN</td>\n",
       "    </tr>\n",
       "    <tr>\n",
       "      <th>12893</th>\n",
       "      <td>CCC</td>\n",
       "      <td>2014J</td>\n",
       "      <td>1777834</td>\n",
       "      <td>NaN</td>\n",
       "      <td>NaN</td>\n",
       "    </tr>\n",
       "    <tr>\n",
       "      <th>14392</th>\n",
       "      <td>DDD</td>\n",
       "      <td>2013B</td>\n",
       "      <td>2707979</td>\n",
       "      <td>NaN</td>\n",
       "      <td>NaN</td>\n",
       "    </tr>\n",
       "    <tr>\n",
       "      <th>14393</th>\n",
       "      <td>DDD</td>\n",
       "      <td>2013B</td>\n",
       "      <td>2710343</td>\n",
       "      <td>NaN</td>\n",
       "      <td>NaN</td>\n",
       "    </tr>\n",
       "    <tr>\n",
       "      <th>17559</th>\n",
       "      <td>DDD</td>\n",
       "      <td>2014B</td>\n",
       "      <td>2710343</td>\n",
       "      <td>NaN</td>\n",
       "      <td>NaN</td>\n",
       "    </tr>\n",
       "    <tr>\n",
       "      <th>23796</th>\n",
       "      <td>FFF</td>\n",
       "      <td>2013B</td>\n",
       "      <td>2102658</td>\n",
       "      <td>NaN</td>\n",
       "      <td>NaN</td>\n",
       "    </tr>\n",
       "  </tbody>\n",
       "</table>\n",
       "</div>"
      ],
      "text/plain": [
       "      code_module code_presentation  id_student  date_registration  \\\n",
       "2344          BBB             2013B      630346                NaN   \n",
       "12893         CCC             2014J     1777834                NaN   \n",
       "14392         DDD             2013B     2707979                NaN   \n",
       "14393         DDD             2013B     2710343                NaN   \n",
       "17559         DDD             2014B     2710343                NaN   \n",
       "23796         FFF             2013B     2102658                NaN   \n",
       "\n",
       "       date_unregistration  \n",
       "2344                   NaN  \n",
       "12893                  NaN  \n",
       "14392                  NaN  \n",
       "14393                  NaN  \n",
       "17559                  NaN  \n",
       "23796                  NaN  "
      ]
     },
     "execution_count": 52,
     "metadata": {},
     "output_type": "execute_result"
    }
   ],
   "source": [
    "studentRegistration.query('date_registration == \"NaN\" and date_unregistration == \"NaN\"')"
   ]
  },
  {
   "cell_type": "code",
   "execution_count": 53,
   "metadata": {},
   "outputs": [
    {
     "data": {
      "text/html": [
       "<div>\n",
       "<style scoped>\n",
       "    .dataframe tbody tr th:only-of-type {\n",
       "        vertical-align: middle;\n",
       "    }\n",
       "\n",
       "    .dataframe tbody tr th {\n",
       "        vertical-align: top;\n",
       "    }\n",
       "\n",
       "    .dataframe thead th {\n",
       "        text-align: right;\n",
       "    }\n",
       "</style>\n",
       "<table border=\"1\" class=\"dataframe\">\n",
       "  <thead>\n",
       "    <tr style=\"text-align: right;\">\n",
       "      <th></th>\n",
       "      <th>code_module</th>\n",
       "      <th>code_presentation</th>\n",
       "      <th>count_reg</th>\n",
       "      <th>count_unreg</th>\n",
       "    </tr>\n",
       "  </thead>\n",
       "  <tbody>\n",
       "    <tr>\n",
       "      <th>top_1_reg</th>\n",
       "      <td>CCC</td>\n",
       "      <td>2014J</td>\n",
       "      <td>2498</td>\n",
       "      <td>1049</td>\n",
       "    </tr>\n",
       "    <tr>\n",
       "      <th>top_2_reg</th>\n",
       "      <td>FFF</td>\n",
       "      <td>2014J</td>\n",
       "      <td>2365</td>\n",
       "      <td>831</td>\n",
       "    </tr>\n",
       "    <tr>\n",
       "      <th>top_3_reg</th>\n",
       "      <td>BBB</td>\n",
       "      <td>2014J</td>\n",
       "      <td>2292</td>\n",
       "      <td>736</td>\n",
       "    </tr>\n",
       "    <tr>\n",
       "      <th>top_1_unreg</th>\n",
       "      <td>CCC</td>\n",
       "      <td>2014J</td>\n",
       "      <td>2498</td>\n",
       "      <td>1049</td>\n",
       "    </tr>\n",
       "    <tr>\n",
       "      <th>top_2_unreg</th>\n",
       "      <td>CCC</td>\n",
       "      <td>2014B</td>\n",
       "      <td>1936</td>\n",
       "      <td>898</td>\n",
       "    </tr>\n",
       "    <tr>\n",
       "      <th>top_3_unreg</th>\n",
       "      <td>FFF</td>\n",
       "      <td>2014J</td>\n",
       "      <td>2365</td>\n",
       "      <td>831</td>\n",
       "    </tr>\n",
       "  </tbody>\n",
       "</table>\n",
       "</div>"
      ],
      "text/plain": [
       "            code_module code_presentation  count_reg  count_unreg\n",
       "top_1_reg           CCC             2014J       2498         1049\n",
       "top_2_reg           FFF             2014J       2365          831\n",
       "top_3_reg           BBB             2014J       2292          736\n",
       "top_1_unreg         CCC             2014J       2498         1049\n",
       "top_2_unreg         CCC             2014B       1936          898\n",
       "top_3_unreg         FFF             2014J       2365          831"
      ]
     },
     "execution_count": 53,
     "metadata": {},
     "output_type": "execute_result"
    }
   ],
   "source": [
    "popular_reg_unreg = studentRegistration.groupby(['code_module', 'code_presentation'], as_index = False) \\\n",
    "                   .agg(count_reg = ('id_student', 'count')) \\\n",
    ".merge(\n",
    "\n",
    "studentRegistration.groupby(['code_module', 'code_presentation'], as_index = False) \\\n",
    "                   .agg(count_unreg = ('date_unregistration', 'count')), \n",
    "                    how=  'inner', on = ['code_module', 'code_presentation'])\n",
    "\n",
    "pd.concat([popular_reg_unreg.sort_values('count_reg', ascending = False).head(3), \n",
    "           popular_reg_unreg.sort_values('count_unreg', ascending = False).head(3)]) \\\n",
    "          .set_index([pd.Index(['top_1_reg', 'top_2_reg', 'top_3_reg', 'top_1_unreg', 'top_2_unreg', 'top_3_unreg' ])])\n",
    "# можно перевести из индекса в колонку - reset_index(drop = False)"
   ]
  },
  {
   "cell_type": "markdown",
   "metadata": {},
   "source": [
    "## Ответ на 4-ое Задание:\n",
    "\n",
    "ТОП 3 курса по количеству регистраций:  ССС 2014J, FFF\t2014J, BBB\t2014J  \n",
    "ТОП 3 курса по оттоку:                  CCC\t2014J, CCC\t2014B, FFF\t2014J\n",
    "\n",
    "Как видно, два курса (ССС 2014J, FFF 2014J попали в оба топа) "
   ]
  },
  {
   "cell_type": "code",
   "execution_count": null,
   "metadata": {},
   "outputs": [],
   "source": []
  },
  {
   "cell_type": "markdown",
   "metadata": {},
   "source": [
    "## 5. Часто для качественного анализа аудитории использую подходы, основанные на сегментации. Используя python, построй адаптированные RFM-кластеры студентов, чтобы качественно оценить свою аудиторию. В адаптированной кластеризации можешь выбрать следующие метрики: R - среднее время сдачи одного экзамена, F - завершаемость курсов, M - среднее количество баллов, получаемое за экзамен. Подробно опиши, как ты создавал кластеры. Для каждого RFM-сегмента построй границы метрик recency, frequency и monetary для интерпретации этих кластеров."
   ]
  },
  {
   "cell_type": "markdown",
   "metadata": {},
   "source": [
    "Возьму:  \n",
    "R - средняя разница между длиной курса и длиной сдачи экзамена (измеряя от начала курса) (можем вести отсчет только от начала курса, сдача может быть и неудачной)  \n",
    "F - завершаемость курсов  *завершаемость = кол-во успешных экзаменов / кол-во всех попыток сдать экзамен  \n",
    "M - среднее количество баллов, получаемое за экзамен  "
   ]
  },
  {
   "cell_type": "code",
   "execution_count": 54,
   "metadata": {},
   "outputs": [
    {
     "data": {
      "text/plain": [
       "id_assessment           0\n",
       "id_student              0\n",
       "date_submitted          0\n",
       "is_banked               0\n",
       "score                   0\n",
       "code_module             0\n",
       "code_presentation       0\n",
       "assessment_type         0\n",
       "date                 2865\n",
       "weight                  0\n",
       "dtype: int64"
      ]
     },
     "execution_count": 54,
     "metadata": {},
     "output_type": "execute_result"
    }
   ],
   "source": [
    "stud_asses_asses.query('assessment_type == \"Exam\"').isna().sum()"
   ]
  },
  {
   "cell_type": "code",
   "execution_count": 55,
   "metadata": {},
   "outputs": [],
   "source": [
    "# Для подсчета R добавляем колонку с длиной курса\n",
    "only_exam = stud_asses_asses.query('assessment_type == \"Exam\"') \\\n",
    "                            .merge(courses, how = 'inner', on = ['code_module', 'code_presentation']) \\\n",
    "                            .copy()\n",
    "\n",
    "# создаем колонку с разницей между длиной курса и длиной сдачи экзамена\n",
    "only_exam['diff_for_R'] = only_exam['module_presentation_length'] - only_exam['date_submitted']\n",
    "\n",
    "# создаем функцию для того, что бы сданный экзамен отметить как 1, а проваленный как 0\n",
    "def score_F(x):\n",
    "    if x < 40:\n",
    "        return 0\n",
    "    else:\n",
    "        return 1\n",
    "\n",
    "# применяем функцию. Теперь у нас два значения - 1 и 0\n",
    "only_exam['for_F'] = only_exam.score.apply(score_F)\n",
    "\n",
    "# создаем таблицу с тремя значениями (R, F, M)\n",
    "rfmTable = only_exam.groupby('id_student') \\\n",
    "                    .agg({'diff_for_R' : 'mean', \n",
    "                          'for_F' : 'mean',\n",
    "                           'score' : 'mean'})\n",
    "\n",
    "# переименуем столбцы\n",
    "rfmTable.rename(columns={'diff_for_R': 'recency', \n",
    "                         'for_F': 'frequency', \n",
    "                         'score': 'monetary_value'}, inplace=True)\n",
    "\n",
    "# перезапишем в другую переменную\n",
    "rfmSegmentation = rfmTable\n"
   ]
  },
  {
   "cell_type": "markdown",
   "metadata": {},
   "source": [
    "##### Запишем в переменную квантили по трем параментам.Однако у нас три проблемы:\n",
    "##### 1. frequaency из-за слишком часто встречающегося значения (1) оно и в 25 и в 50 и в 75 квантиле.\n",
    "##### 2. monetary_value - пусть мы брали среднее, но за единицу я бы хотел брать все, что ниже 40.\n",
    "##### 3. recency, сданное в срок все же не хотелось бы оценивать как 1. Все, что меньше 0 будем 1, от 0  до ((11+19) /2 = 15) - 2, от 15 до 24 - 3. более 24 - 4"
   ]
  },
  {
   "cell_type": "code",
   "execution_count": 56,
   "metadata": {},
   "outputs": [
    {
     "data": {
      "text/html": [
       "<div>\n",
       "<style scoped>\n",
       "    .dataframe tbody tr th:only-of-type {\n",
       "        vertical-align: middle;\n",
       "    }\n",
       "\n",
       "    .dataframe tbody tr th {\n",
       "        vertical-align: top;\n",
       "    }\n",
       "\n",
       "    .dataframe thead th {\n",
       "        text-align: right;\n",
       "    }\n",
       "</style>\n",
       "<table border=\"1\" class=\"dataframe\">\n",
       "  <thead>\n",
       "    <tr style=\"text-align: right;\">\n",
       "      <th></th>\n",
       "      <th>recency</th>\n",
       "      <th>frequency</th>\n",
       "      <th>monetary_value</th>\n",
       "    </tr>\n",
       "  </thead>\n",
       "  <tbody>\n",
       "    <tr>\n",
       "      <th>0.25</th>\n",
       "      <td>11.0</td>\n",
       "      <td>1.0</td>\n",
       "      <td>50.0</td>\n",
       "    </tr>\n",
       "    <tr>\n",
       "      <th>0.50</th>\n",
       "      <td>19.0</td>\n",
       "      <td>1.0</td>\n",
       "      <td>66.0</td>\n",
       "    </tr>\n",
       "    <tr>\n",
       "      <th>0.75</th>\n",
       "      <td>24.0</td>\n",
       "      <td>1.0</td>\n",
       "      <td>82.0</td>\n",
       "    </tr>\n",
       "  </tbody>\n",
       "</table>\n",
       "</div>"
      ],
      "text/plain": [
       "      recency  frequency  monetary_value\n",
       "0.25     11.0        1.0            50.0\n",
       "0.50     19.0        1.0            66.0\n",
       "0.75     24.0        1.0            82.0"
      ]
     },
     "execution_count": 56,
     "metadata": {},
     "output_type": "execute_result"
    }
   ],
   "source": [
    "quantiles = rfmTable.quantile(q=[0.25, 0.5, 0.75]) # в целом такое разделение подойдет, кроме frequency!\n",
    "quantiles"
   ]
  },
  {
   "cell_type": "code",
   "execution_count": 57,
   "metadata": {},
   "outputs": [],
   "source": [
    "quantiles['true_frequency'] = [0.25, 0.34, 0.5]\n",
    "quantiles['true_monetary']  = [39, 66, 99] # все у кого 100 можно выделить в отдельную группу\n",
    "quantiles['true_recency']   = [0, 15, 24]"
   ]
  },
  {
   "cell_type": "code",
   "execution_count": 58,
   "metadata": {},
   "outputs": [],
   "source": [
    "# Создам функции где каждый из трех параметров будет оцениваться от 1-4 (4 - лучший результат)\n",
    "\n",
    "def RFMClass(value, parameter_name,quantiles_table):\n",
    "    if value <= quantiles_table[parameter_name][0.25]:\n",
    "        return 1\n",
    "    elif value <= quantiles_table[parameter_name][0.50]:\n",
    "        return 2\n",
    "    elif value <= quantiles_table[parameter_name][0.75]: \n",
    "        return 3\n",
    "    else:\n",
    "        return 4"
   ]
  },
  {
   "cell_type": "code",
   "execution_count": 59,
   "metadata": {},
   "outputs": [],
   "source": [
    "#применим функцию и завершим RFM-анализ\n",
    "\n",
    "rfmSegmentation['R_Quartile'] = rfmSegmentation['recency'].apply(RFMClass, args=('true_recency',quantiles))\n",
    "\n",
    "rfmSegmentation['F_Quartile'] = rfmSegmentation['frequency'].apply(RFMClass, args=('true_frequency',quantiles))\n",
    "\n",
    "rfmSegmentation['M_Quartile'] = rfmSegmentation['monetary_value'].apply(RFMClass, args=('true_monetary',quantiles))\n",
    "\n",
    "rfmSegmentation['RFMClass'] = rfmSegmentation.R_Quartile.map(str)                             + rfmSegmentation.F_Quartile.map(str)                             + rfmSegmentation.M_Quartile.map(str)"
   ]
  },
  {
   "cell_type": "code",
   "execution_count": 60,
   "metadata": {},
   "outputs": [
    {
     "data": {
      "text/html": [
       "<div>\n",
       "<style scoped>\n",
       "    .dataframe tbody tr th:only-of-type {\n",
       "        vertical-align: middle;\n",
       "    }\n",
       "\n",
       "    .dataframe tbody tr th {\n",
       "        vertical-align: top;\n",
       "    }\n",
       "\n",
       "    .dataframe thead th {\n",
       "        text-align: right;\n",
       "    }\n",
       "</style>\n",
       "<table border=\"1\" class=\"dataframe\">\n",
       "  <thead>\n",
       "    <tr style=\"text-align: right;\">\n",
       "      <th></th>\n",
       "      <th>id_student</th>\n",
       "      <th>recency</th>\n",
       "      <th>frequency</th>\n",
       "      <th>monetary_value</th>\n",
       "      <th>R_Quartile</th>\n",
       "      <th>F_Quartile</th>\n",
       "      <th>M_Quartile</th>\n",
       "      <th>RFMClass</th>\n",
       "    </tr>\n",
       "  </thead>\n",
       "  <tbody>\n",
       "    <tr>\n",
       "      <th>0</th>\n",
       "      <td>23698</td>\n",
       "      <td>26.0</td>\n",
       "      <td>1.0</td>\n",
       "      <td>80.0</td>\n",
       "      <td>4</td>\n",
       "      <td>4</td>\n",
       "      <td>3</td>\n",
       "      <td>443</td>\n",
       "    </tr>\n",
       "    <tr>\n",
       "      <th>1</th>\n",
       "      <td>24213</td>\n",
       "      <td>5.0</td>\n",
       "      <td>1.0</td>\n",
       "      <td>58.0</td>\n",
       "      <td>2</td>\n",
       "      <td>4</td>\n",
       "      <td>2</td>\n",
       "      <td>242</td>\n",
       "    </tr>\n",
       "    <tr>\n",
       "      <th>2</th>\n",
       "      <td>27116</td>\n",
       "      <td>26.0</td>\n",
       "      <td>1.0</td>\n",
       "      <td>96.0</td>\n",
       "      <td>4</td>\n",
       "      <td>4</td>\n",
       "      <td>3</td>\n",
       "      <td>443</td>\n",
       "    </tr>\n",
       "    <tr>\n",
       "      <th>3</th>\n",
       "      <td>28046</td>\n",
       "      <td>24.0</td>\n",
       "      <td>1.0</td>\n",
       "      <td>40.0</td>\n",
       "      <td>3</td>\n",
       "      <td>4</td>\n",
       "      <td>2</td>\n",
       "      <td>342</td>\n",
       "    </tr>\n",
       "    <tr>\n",
       "      <th>4</th>\n",
       "      <td>28787</td>\n",
       "      <td>26.0</td>\n",
       "      <td>1.0</td>\n",
       "      <td>44.0</td>\n",
       "      <td>4</td>\n",
       "      <td>4</td>\n",
       "      <td>2</td>\n",
       "      <td>442</td>\n",
       "    </tr>\n",
       "    <tr>\n",
       "      <th>...</th>\n",
       "      <td>...</td>\n",
       "      <td>...</td>\n",
       "      <td>...</td>\n",
       "      <td>...</td>\n",
       "      <td>...</td>\n",
       "      <td>...</td>\n",
       "      <td>...</td>\n",
       "      <td>...</td>\n",
       "    </tr>\n",
       "    <tr>\n",
       "      <th>4628</th>\n",
       "      <td>2694886</td>\n",
       "      <td>5.0</td>\n",
       "      <td>1.0</td>\n",
       "      <td>69.0</td>\n",
       "      <td>2</td>\n",
       "      <td>4</td>\n",
       "      <td>3</td>\n",
       "      <td>243</td>\n",
       "    </tr>\n",
       "    <tr>\n",
       "      <th>4629</th>\n",
       "      <td>2694933</td>\n",
       "      <td>10.0</td>\n",
       "      <td>1.0</td>\n",
       "      <td>73.0</td>\n",
       "      <td>2</td>\n",
       "      <td>4</td>\n",
       "      <td>3</td>\n",
       "      <td>243</td>\n",
       "    </tr>\n",
       "    <tr>\n",
       "      <th>4630</th>\n",
       "      <td>2695608</td>\n",
       "      <td>24.0</td>\n",
       "      <td>1.0</td>\n",
       "      <td>73.0</td>\n",
       "      <td>3</td>\n",
       "      <td>4</td>\n",
       "      <td>3</td>\n",
       "      <td>343</td>\n",
       "    </tr>\n",
       "    <tr>\n",
       "      <th>4631</th>\n",
       "      <td>2697181</td>\n",
       "      <td>11.0</td>\n",
       "      <td>1.0</td>\n",
       "      <td>80.0</td>\n",
       "      <td>2</td>\n",
       "      <td>4</td>\n",
       "      <td>3</td>\n",
       "      <td>243</td>\n",
       "    </tr>\n",
       "    <tr>\n",
       "      <th>4632</th>\n",
       "      <td>2698251</td>\n",
       "      <td>7.0</td>\n",
       "      <td>1.0</td>\n",
       "      <td>44.0</td>\n",
       "      <td>2</td>\n",
       "      <td>4</td>\n",
       "      <td>2</td>\n",
       "      <td>242</td>\n",
       "    </tr>\n",
       "  </tbody>\n",
       "</table>\n",
       "<p>4633 rows × 8 columns</p>\n",
       "</div>"
      ],
      "text/plain": [
       "      id_student  recency  frequency  monetary_value  R_Quartile  F_Quartile  \\\n",
       "0          23698     26.0        1.0            80.0           4           4   \n",
       "1          24213      5.0        1.0            58.0           2           4   \n",
       "2          27116     26.0        1.0            96.0           4           4   \n",
       "3          28046     24.0        1.0            40.0           3           4   \n",
       "4          28787     26.0        1.0            44.0           4           4   \n",
       "...          ...      ...        ...             ...         ...         ...   \n",
       "4628     2694886      5.0        1.0            69.0           2           4   \n",
       "4629     2694933     10.0        1.0            73.0           2           4   \n",
       "4630     2695608     24.0        1.0            73.0           3           4   \n",
       "4631     2697181     11.0        1.0            80.0           2           4   \n",
       "4632     2698251      7.0        1.0            44.0           2           4   \n",
       "\n",
       "      M_Quartile RFMClass  \n",
       "0              3      443  \n",
       "1              2      242  \n",
       "2              3      443  \n",
       "3              2      342  \n",
       "4              2      442  \n",
       "...          ...      ...  \n",
       "4628           3      243  \n",
       "4629           3      243  \n",
       "4630           3      343  \n",
       "4631           3      243  \n",
       "4632           2      242  \n",
       "\n",
       "[4633 rows x 8 columns]"
      ]
     },
     "execution_count": 60,
     "metadata": {},
     "output_type": "execute_result"
    }
   ],
   "source": [
    "rfmSegmentation = rfmSegmentation.reset_index()\n",
    "rfmSegmentation"
   ]
  },
  {
   "cell_type": "code",
   "execution_count": 61,
   "metadata": {},
   "outputs": [
    {
     "data": {
      "image/png": "[encoded data removed]",
      "text/plain": [
       "<Figure size 1440x1080 with 1 Axes>"
      ]
     },
     "metadata": {},
     "output_type": "display_data"
    }
   ],
   "source": [
    "For_barplot = rfmSegmentation.groupby('RFMClass', as_index = False) \\\n",
    "                   .agg(count = ('frequency', 'count')).sort_values('count', ascending = False)\n",
    "plt.figure(figsize = (20, 15))\n",
    "ax = sns.barplot(data = For_barplot, x = 'RFMClass', y = 'count', \\\n",
    "                  color='red', alpha= 1)"
   ]
  },
  {
   "cell_type": "markdown",
   "metadata": {},
   "source": [
    "## Ответ по 5-ому Заданию:\n",
    "### Мы провели RFM-анализ, сегментировали студентов, которые совершали хотя бы одну попытку сдать экзамен. ТОП 6 групп (по количеству) показали хороший результат, особенно учитывая, что 4 за среднее число очков на экзамене мы присвоили только за 100 баллов"
   ]
  },
  {
   "cell_type": "code",
   "execution_count": null,
   "metadata": {},
   "outputs": [],
   "source": []
  }
 ],
 "metadata": {
  "kernelspec": {
   "display_name": "Python 3",
   "language": "python",
   "name": "python3"
  },
  "language_info": {
   "codemirror_mode": {
    "name": "ipython",
    "version": 3
   },
   "file_extension": ".py",
   "mimetype": "text/x-python",
   "name": "python",
   "nbconvert_exporter": "python",
   "pygments_lexer": "ipython3",
   "version": "3.7.3"
  }
 },
 "nbformat": 4,
 "nbformat_minor": 4
}
